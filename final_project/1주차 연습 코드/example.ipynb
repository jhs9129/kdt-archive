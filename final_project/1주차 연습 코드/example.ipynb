{
 "cells": [
  {
   "cell_type": "code",
   "execution_count": 4,
   "metadata": {},
   "outputs": [
    {
     "name": "stdout",
     "output_type": "stream",
     "text": [
      "Requirement already satisfied: pip in c:\\users\\user\\anaconda3\\lib\\site-packages (23.2.1)\n",
      "Collecting pip\n",
      "  Obtaining dependency information for pip from https://files.pythonhosted.org/packages/47/6a/453160888fab7c6a432a6e25f8afe6256d0d9f2cbd25971021da6491d899/pip-23.3.1-py3-none-any.whl.metadata\n",
      "  Downloading pip-23.3.1-py3-none-any.whl.metadata (3.5 kB)\n",
      "Using cached pip-23.3.1-py3-none-any.whl (2.1 MB)\n",
      "Installing collected packages: pip\n",
      "  Attempting uninstall: pip\n",
      "    Found existing installation: pip 23.2.1\n",
      "    Uninstalling pip-23.2.1:\n",
      "      Successfully uninstalled pip-23.2.1\n",
      "Successfully installed pip-23.3.1\n",
      "Note: you may need to restart the kernel to use updated packages.\n"
     ]
    },
    {
     "name": "stderr",
     "output_type": "stream",
     "text": [
      "WARNING: Ignoring invalid distribution -pype1 (c:\\users\\user\\anaconda3\\lib\\site-packages)\n",
      "WARNING: Ignoring invalid distribution -pype1 (c:\\users\\user\\anaconda3\\lib\\site-packages)\n"
     ]
    }
   ],
   "source": [
    "# pip install --upgrade pip"
   ]
  },
  {
   "cell_type": "code",
   "execution_count": 5,
   "metadata": {},
   "outputs": [
    {
     "name": "stdout",
     "output_type": "stream",
     "text": [
      "Requirement already satisfied: mediapipe in c:\\users\\user\\anaconda3\\lib\\site-packages (0.8.9.1)\n",
      "Requirement already satisfied: absl-py in c:\\users\\user\\anaconda3\\lib\\site-packages (from mediapipe) (1.4.0)\n",
      "Requirement already satisfied: attrs>=19.1.0 in c:\\users\\user\\anaconda3\\lib\\site-packages (from mediapipe) (22.1.0)\n",
      "Requirement already satisfied: matplotlib in c:\\users\\user\\anaconda3\\lib\\site-packages (from mediapipe) (3.7.2)\n",
      "Requirement already satisfied: numpy in c:\\users\\user\\anaconda3\\lib\\site-packages (from mediapipe) (1.23.5)\n",
      "Requirement already satisfied: opencv-contrib-python in c:\\users\\user\\anaconda3\\lib\\site-packages (from mediapipe) (4.8.1.78)\n",
      "Requirement already satisfied: protobuf>=3.11.4 in c:\\users\\user\\anaconda3\\lib\\site-packages (from mediapipe) (3.20.3)\n",
      "Requirement already satisfied: contourpy>=1.0.1 in c:\\users\\user\\anaconda3\\lib\\site-packages (from matplotlib->mediapipe) (1.0.5)\n",
      "Requirement already satisfied: cycler>=0.10 in c:\\users\\user\\anaconda3\\lib\\site-packages (from matplotlib->mediapipe) (0.11.0)\n",
      "Requirement already satisfied: fonttools>=4.22.0 in c:\\users\\user\\anaconda3\\lib\\site-packages (from matplotlib->mediapipe) (4.25.0)\n",
      "Requirement already satisfied: kiwisolver>=1.0.1 in c:\\users\\user\\anaconda3\\lib\\site-packages (from matplotlib->mediapipe) (1.4.4)\n",
      "Requirement already satisfied: packaging>=20.0 in c:\\users\\user\\anaconda3\\lib\\site-packages (from matplotlib->mediapipe) (22.0)\n",
      "Requirement already satisfied: pillow>=6.2.0 in c:\\users\\user\\anaconda3\\lib\\site-packages (from matplotlib->mediapipe) (9.4.0)\n",
      "Requirement already satisfied: pyparsing<3.1,>=2.3.1 in c:\\users\\user\\anaconda3\\lib\\site-packages (from matplotlib->mediapipe) (3.0.9)\n",
      "Requirement already satisfied: python-dateutil>=2.7 in c:\\users\\user\\anaconda3\\lib\\site-packages (from matplotlib->mediapipe) (2.8.2)\n",
      "Requirement already satisfied: six>=1.5 in c:\\users\\user\\anaconda3\\lib\\site-packages (from python-dateutil>=2.7->matplotlib->mediapipe) (1.16.0)\n"
     ]
    },
    {
     "name": "stderr",
     "output_type": "stream",
     "text": [
      "WARNING: Ignoring invalid distribution -pype1 (c:\\users\\user\\anaconda3\\lib\\site-packages)\n",
      "WARNING: Ignoring invalid distribution -pype1 (c:\\users\\user\\anaconda3\\lib\\site-packages)\n"
     ]
    }
   ],
   "source": [
    "# !pip install mediapipe"
   ]
  },
  {
   "cell_type": "code",
   "execution_count": 13,
   "metadata": {},
   "outputs": [
    {
     "name": "stdout",
     "output_type": "stream",
     "text": [
      "Requirement already satisfied: mediapipe in c:\\users\\user\\anaconda3\\lib\\site-packages (0.8.9.1)\n",
      "Collecting mediapipe\n",
      "  Downloading mediapipe-0.10.8-cp310-cp310-win_amd64.whl.metadata (9.8 kB)\n",
      "Requirement already satisfied: absl-py in c:\\users\\user\\anaconda3\\lib\\site-packages (from mediapipe) (1.4.0)\n",
      "Requirement already satisfied: attrs>=19.1.0 in c:\\users\\user\\anaconda3\\lib\\site-packages (from mediapipe) (22.1.0)\n",
      "Requirement already satisfied: flatbuffers>=2.0 in c:\\users\\user\\anaconda3\\lib\\site-packages (from mediapipe) (2.0)\n",
      "Requirement already satisfied: matplotlib in c:\\users\\user\\anaconda3\\lib\\site-packages (from mediapipe) (3.7.2)\n",
      "Requirement already satisfied: numpy in c:\\users\\user\\anaconda3\\lib\\site-packages (from mediapipe) (1.23.5)\n",
      "Requirement already satisfied: opencv-contrib-python in c:\\users\\user\\anaconda3\\lib\\site-packages (from mediapipe) (4.8.1.78)\n",
      "Requirement already satisfied: protobuf<4,>=3.11 in c:\\users\\user\\anaconda3\\lib\\site-packages (from mediapipe) (3.20.3)\n",
      "Requirement already satisfied: sounddevice>=0.4.4 in c:\\users\\user\\anaconda3\\lib\\site-packages (from mediapipe) (0.4.6)\n",
      "Requirement already satisfied: CFFI>=1.0 in c:\\users\\user\\anaconda3\\lib\\site-packages (from sounddevice>=0.4.4->mediapipe) (1.15.1)\n",
      "Requirement already satisfied: contourpy>=1.0.1 in c:\\users\\user\\anaconda3\\lib\\site-packages (from matplotlib->mediapipe) (1.0.5)\n",
      "Requirement already satisfied: cycler>=0.10 in c:\\users\\user\\anaconda3\\lib\\site-packages (from matplotlib->mediapipe) (0.11.0)\n",
      "Requirement already satisfied: fonttools>=4.22.0 in c:\\users\\user\\anaconda3\\lib\\site-packages (from matplotlib->mediapipe) (4.25.0)\n",
      "Requirement already satisfied: kiwisolver>=1.0.1 in c:\\users\\user\\anaconda3\\lib\\site-packages (from matplotlib->mediapipe) (1.4.4)\n",
      "Requirement already satisfied: packaging>=20.0 in c:\\users\\user\\anaconda3\\lib\\site-packages (from matplotlib->mediapipe) (22.0)\n",
      "Requirement already satisfied: pillow>=6.2.0 in c:\\users\\user\\anaconda3\\lib\\site-packages (from matplotlib->mediapipe) (9.4.0)\n",
      "Requirement already satisfied: pyparsing<3.1,>=2.3.1 in c:\\users\\user\\anaconda3\\lib\\site-packages (from matplotlib->mediapipe) (3.0.9)\n",
      "Requirement already satisfied: python-dateutil>=2.7 in c:\\users\\user\\anaconda3\\lib\\site-packages (from matplotlib->mediapipe) (2.8.2)\n",
      "Requirement already satisfied: pycparser in c:\\users\\user\\anaconda3\\lib\\site-packages (from CFFI>=1.0->sounddevice>=0.4.4->mediapipe) (2.21)\n",
      "Requirement already satisfied: six>=1.5 in c:\\users\\user\\anaconda3\\lib\\site-packages (from python-dateutil>=2.7->matplotlib->mediapipe) (1.16.0)\n",
      "Downloading mediapipe-0.10.8-cp310-cp310-win_amd64.whl (50.5 MB)\n",
      "   ---------------------------------------- 0.0/50.5 MB ? eta -:--:--\n",
      "    --------------------------------------- 1.1/50.5 MB 34.9 MB/s eta 0:00:02\n",
      "   ---- ----------------------------------- 6.2/50.5 MB 79.4 MB/s eta 0:00:01\n",
      "   -------- ------------------------------- 11.0/50.5 MB 93.9 MB/s eta 0:00:01\n",
      "   ----------- ---------------------------- 14.7/50.5 MB 108.8 MB/s eta 0:00:01\n",
      "   ----------- ---------------------------- 14.7/50.5 MB 108.8 MB/s eta 0:00:01\n",
      "   ----------- ---------------------------- 14.7/50.5 MB 108.8 MB/s eta 0:00:01\n",
      "   -------------- ------------------------- 17.9/50.5 MB 46.7 MB/s eta 0:00:01\n",
      "   ----------------- ---------------------- 22.7/50.5 MB 46.7 MB/s eta 0:00:01\n",
      "   --------------------- ------------------ 27.7/50.5 MB 108.8 MB/s eta 0:00:01\n",
      "   ------------------------- -------------- 32.5/50.5 MB 110.0 MB/s eta 0:00:01\n",
      "   ------------------------- -------------- 32.5/50.5 MB 110.0 MB/s eta 0:00:01\n",
      "   ------------------------- -------------- 32.5/50.5 MB 110.0 MB/s eta 0:00:01\n",
      "   --------------------------- ------------ 34.7/50.5 MB 46.7 MB/s eta 0:00:01\n",
      "   ----------------------------- ---------- 37.7/50.5 MB 46.9 MB/s eta 0:00:01\n",
      "   ------------------------------ --------- 38.1/50.5 MB 36.4 MB/s eta 0:00:01\n",
      "   --------------------------------- ------ 42.8/50.5 MB 65.2 MB/s eta 0:00:01\n",
      "   ------------------------------------- -- 47.9/50.5 MB 65.2 MB/s eta 0:00:01\n",
      "   ---------------------------------------  50.5/50.5 MB 108.8 MB/s eta 0:00:01\n",
      "   ---------------------------------------  50.5/50.5 MB 108.8 MB/s eta 0:00:01\n",
      "   ---------------------------------------  50.5/50.5 MB 108.8 MB/s eta 0:00:01\n",
      "   ---------------------------------------- 50.5/50.5 MB 40.9 MB/s eta 0:00:00\n",
      "Installing collected packages: mediapipe\n",
      "  Attempting uninstall: mediapipe\n",
      "    Found existing installation: mediapipe 0.8.9.1\n",
      "    Uninstalling mediapipe-0.8.9.1:\n",
      "      Successfully uninstalled mediapipe-0.8.9.1\n",
      "Successfully installed mediapipe-0.10.8\n"
     ]
    },
    {
     "name": "stderr",
     "output_type": "stream",
     "text": [
      "WARNING: Ignoring invalid distribution -pype1 (c:\\users\\user\\anaconda3\\lib\\site-packages)\n",
      "WARNING: Ignoring invalid distribution -pype1 (c:\\users\\user\\anaconda3\\lib\\site-packages)\n",
      "  WARNING: Failed to remove contents in a temporary directory 'C:\\Users\\user\\anaconda3\\Lib\\site-packages\\~-diapipe'.\n",
      "  You can safely remove it manually.\n"
     ]
    }
   ],
   "source": [
    "# !pip install --upgrade mediapipe"
   ]
  },
  {
   "cell_type": "code",
   "execution_count": 2,
   "metadata": {},
   "outputs": [],
   "source": [
    "import cv2 as cv\n",
    "import mediapipe as mp"
   ]
  },
  {
   "attachments": {},
   "cell_type": "markdown",
   "metadata": {},
   "source": [
    "예제1"
   ]
  },
  {
   "cell_type": "code",
   "execution_count": 22,
   "metadata": {},
   "outputs": [],
   "source": [
    "import cv2 as cv\n",
    "import mediapipe as mp\n",
    "\n",
    "img = cv.imread('face_image.jpg') # 이미지 로드\n",
    "\n",
    "mp_face_detection = mp.solutions.face_detection # 얼굴 감지 모듈 \n",
    "mp_drawing = mp.solutions.drawing_utils # Mediapipe에서 제공하는 그리기 유틸리티 모듈\n",
    "\n",
    "face_detection = mp_face_detection.FaceDetection(model_selection=1,min_detection_confidence=0.5) # 얼굴감지 모델 설정\n",
    "res = face_detection.process(cv.cvtColor(img,cv.COLOR_BGR2RGB)) # RGB형식으로 변환 후 얼굴 인지\n",
    "\n",
    "if not res.detections: # 얼굴 인지 실패\n",
    "    print('얼굴 검출에 실패 다시 시도')\n",
    "else:\n",
    "    for detection in res.detections: \n",
    "        mp_drawing.draw_detection(img,detection) # 얼굴 주위에 박스 생성\n",
    "    cv.imshow('Face detection by MediaPipe', img)\n",
    "\n",
    "cv.waitKey()\n",
    "cv.destroyAllWindows()"
   ]
  },
  {
   "cell_type": "code",
   "execution_count": 14,
   "metadata": {},
   "outputs": [
    {
     "name": "stdout",
     "output_type": "stream",
     "text": [
      "label_id: 0\n",
      "score: 0.9421839\n",
      "location_data {\n",
      "  format: RELATIVE_BOUNDING_BOX\n",
      "  relative_bounding_box {\n",
      "    xmin: 0.12431623\n",
      "    ymin: 0.32083887\n",
      "    width: 0.35538262\n",
      "    height: 0.5830426\n",
      "  }\n",
      "  relative_keypoints {\n",
      "    x: 0.22434449\n",
      "    y: 0.53202254\n",
      "  }\n",
      "  relative_keypoints {\n",
      "    x: 0.37001586\n",
      "    y: 0.52905357\n",
      "  }\n",
      "  relative_keypoints {\n",
      "    x: 0.2999757\n",
      "    y: 0.68170244\n",
      "  }\n",
      "  relative_keypoints {\n",
      "    x: 0.30344728\n",
      "    y: 0.7756625\n",
      "  }\n",
      "  relative_keypoints {\n",
      "    x: 0.1548167\n",
      "    y: 0.56924415\n",
      "  }\n",
      "  relative_keypoints {\n",
      "    x: 0.4486367\n",
      "    y: 0.55932117\n",
      "  }\n",
      "}\n",
      "\n",
      "label_id: 0\n",
      "score: 0.7457425\n",
      "location_data {\n",
      "  format: RELATIVE_BOUNDING_BOX\n",
      "  relative_bounding_box {\n",
      "    xmin: 0.45518517\n",
      "    ymin: 0.21310532\n",
      "    width: 0.41146553\n",
      "    height: 0.67481655\n",
      "  }\n",
      "  relative_keypoints {\n",
      "    x: 0.58496976\n",
      "    y: 0.41779983\n",
      "  }\n",
      "  relative_keypoints {\n",
      "    x: 0.7438647\n",
      "    y: 0.41902554\n",
      "  }\n",
      "  relative_keypoints {\n",
      "    x: 0.6894745\n",
      "    y: 0.55676866\n",
      "  }\n",
      "  relative_keypoints {\n",
      "    x: 0.6754923\n",
      "    y: 0.70073575\n",
      "  }\n",
      "  relative_keypoints {\n",
      "    x: 0.45365432\n",
      "    y: 0.5093507\n",
      "  }\n",
      "  relative_keypoints {\n",
      "    x: 0.7818839\n",
      "    y: 0.5058943\n",
      "  }\n",
      "}\n",
      "\n"
     ]
    }
   ],
   "source": [
    "for detection in res.detections:\n",
    "    print(detection)"
   ]
  },
  {
   "attachments": {},
   "cell_type": "markdown",
   "metadata": {},
   "source": [
    "예제2) 얼굴 그물망 검출"
   ]
  },
  {
   "cell_type": "code",
   "execution_count": 15,
   "metadata": {},
   "outputs": [],
   "source": [
    "import cv2 as cv\n",
    "import mediapipe as mp"
   ]
  },
  {
   "cell_type": "code",
   "execution_count": 24,
   "metadata": {},
   "outputs": [
    {
     "name": "stdout",
     "output_type": "stream",
     "text": [
      "프레임 획득에 실패하여 루프를 나갑니다\n"
     ]
    },
    {
     "ename": "AttributeError",
     "evalue": "module 'cv2' has no attribute 'destoryAllWindow'",
     "output_type": "error",
     "traceback": [
      "\u001b[1;31m---------------------------------------------------------------------------\u001b[0m",
      "\u001b[1;31mAttributeError\u001b[0m                            Traceback (most recent call last)",
      "Cell \u001b[1;32mIn[24], line 40\u001b[0m\n\u001b[0;32m     37\u001b[0m         \u001b[39mbreak\u001b[39;00m\n\u001b[0;32m     39\u001b[0m cap\u001b[39m.\u001b[39mrelease()\n\u001b[1;32m---> 40\u001b[0m cv\u001b[39m.\u001b[39;49mdestoryAllWindow()\n",
      "\u001b[1;31mAttributeError\u001b[0m: module 'cv2' has no attribute 'destoryAllWindow'"
     ]
    }
   ],
   "source": [
    "mp_mesh = mp.solutions.face_mesh\n",
    "mp_drawing = mp.solutions.drawing_utils\n",
    "mp_styles = mp.solutions.drawing_styles\n",
    "\n",
    "mesh = mp_mesh.FaceMesh(max_num_faces=2,refine_landmarks=True,min_detection_confidence=0.5,min_tracking_confidence=0.5)\n",
    "\n",
    "cap = cv.VideoCapture(0,cv.CAP_DSHOW)\n",
    "\n",
    "while True:\n",
    "    ret,frame=cap.read()\n",
    "    if not ret:\n",
    "        print('프레임 획득에 실패하여 루프를 나갑니다')\n",
    "        break\n",
    "\n",
    "    res = mesh.process(cv.cvtColor(frame,cv.COLOR_BGR2RGB))\n",
    "\n",
    "    if res.multi_face_landmarks:\n",
    "        for landmarks in res.multi_face_landmarks:\n",
    "            mp_drawing.draw_landmarks(image=frame,\n",
    "                                     landmark_list=landmarks,\n",
    "                                     connections=mp_mesh.FACEMESH_TESSELATION,\n",
    "                                     landmark_drawing_spec=None,\n",
    "                                     connection_drawing_spec=mp_styles.get_default_face_mesh_tesselation_style())\n",
    "            mp_drawing.draw_landmarks(image=frame,\n",
    "                                     landmark_list=landmarks,\n",
    "                                     connections=mp_mesh.FACEMESH_CONTOURS,\n",
    "                                     landmark_drawing_spec=None,\n",
    "                                     connection_drawing_spec=mp_styles.get_default_face_mesh_contours_style())\n",
    "            mp_drawing.draw_landmarks(image=frame,\n",
    "                                     landmark_list=landmarks,\n",
    "                                     connections=mp_mesh.FACEMESH_IRISES,\n",
    "                                     landmark_drawing_spec=None,\n",
    "                                     connection_drawing_spec=mp_styles.get_default_face_mesh_iris_connections_style())\n",
    "\n",
    "    cv.imshow('MediaPipe Face Mesh',cv.filp(frame,1))\n",
    "    if cv.waitKey(5)==ord('q'):\n",
    "        break\n",
    "\n",
    "cap.release()\n",
    "cv.destoryAllWindow()\n"
   ]
  },
  {
   "cell_type": "code",
   "execution_count": 4,
   "metadata": {},
   "outputs": [],
   "source": [
    "cap = cv2.VideoCapture('./1.mp4')"
   ]
  },
  {
   "cell_type": "code",
   "execution_count": 5,
   "metadata": {},
   "outputs": [
    {
     "data": {
      "text/plain": [
       "< cv2.VideoCapture 000001BD5E507E70>"
      ]
     },
     "execution_count": 5,
     "metadata": {},
     "output_type": "execute_result"
    }
   ],
   "source": [
    "cap"
   ]
  },
  {
   "cell_type": "code",
   "execution_count": 1,
   "metadata": {},
   "outputs": [
    {
     "name": "stdout",
     "output_type": "stream",
     "text": [
      "Help on class Pose in module mediapipe.python.solutions.pose:\n",
      "\n",
      "class Pose(mediapipe.python.solution_base.SolutionBase)\n",
      " |  Pose(static_image_mode=False, model_complexity=1, smooth_landmarks=True, enable_segmentation=False, smooth_segmentation=True, min_detection_confidence=0.5, min_tracking_confidence=0.5)\n",
      " |  \n",
      " |  MediaPipe Pose.\n",
      " |  \n",
      " |  MediaPipe Pose processes an RGB image and returns pose landmarks on the most\n",
      " |  prominent person detected.\n",
      " |  \n",
      " |  Please refer to https://solutions.mediapipe.dev/pose#python-solution-api for\n",
      " |  usage examples.\n",
      " |  \n",
      " |  Method resolution order:\n",
      " |      Pose\n",
      " |      mediapipe.python.solution_base.SolutionBase\n",
      " |      builtins.object\n",
      " |  \n",
      " |  Methods defined here:\n",
      " |  \n",
      " |  __init__(self, static_image_mode=False, model_complexity=1, smooth_landmarks=True, enable_segmentation=False, smooth_segmentation=True, min_detection_confidence=0.5, min_tracking_confidence=0.5)\n",
      " |      Initializes a MediaPipe Pose object.\n",
      " |      \n",
      " |      Args:\n",
      " |        static_image_mode: Whether to treat the input images as a batch of static\n",
      " |          and possibly unrelated images, or a video stream. See details in\n",
      " |          https://solutions.mediapipe.dev/pose#static_image_mode.\n",
      " |        model_complexity: Complexity of the pose landmark model: 0, 1 or 2. See\n",
      " |          details in https://solutions.mediapipe.dev/pose#model_complexity.\n",
      " |        smooth_landmarks: Whether to filter landmarks across different input\n",
      " |          images to reduce jitter. See details in\n",
      " |          https://solutions.mediapipe.dev/pose#smooth_landmarks.\n",
      " |        enable_segmentation: Whether to predict segmentation mask. See details in\n",
      " |          https://solutions.mediapipe.dev/pose#enable_segmentation.\n",
      " |        smooth_segmentation: Whether to filter segmentation across different input\n",
      " |          images to reduce jitter. See details in\n",
      " |          https://solutions.mediapipe.dev/pose#smooth_segmentation.\n",
      " |        min_detection_confidence: Minimum confidence value ([0.0, 1.0]) for person\n",
      " |          detection to be considered successful. See details in\n",
      " |          https://solutions.mediapipe.dev/pose#min_detection_confidence.\n",
      " |        min_tracking_confidence: Minimum confidence value ([0.0, 1.0]) for the\n",
      " |          pose landmarks to be considered tracked successfully. See details in\n",
      " |          https://solutions.mediapipe.dev/pose#min_tracking_confidence.\n",
      " |  \n",
      " |  process(self, image: numpy.ndarray) -> <function NamedTuple at 0x000001F89571E560>\n",
      " |      Processes an RGB image and returns the pose landmarks on the most prominent person detected.\n",
      " |      \n",
      " |      Args:\n",
      " |        image: An RGB image represented as a numpy ndarray.\n",
      " |      \n",
      " |      Raises:\n",
      " |        RuntimeError: If the underlying graph throws any error.\n",
      " |        ValueError: If the input image is not three channel RGB.\n",
      " |      \n",
      " |      Returns:\n",
      " |        A NamedTuple with fields describing the landmarks on the most prominate\n",
      " |        person detected:\n",
      " |          1) \"pose_landmarks\" field that contains the pose landmarks.\n",
      " |          2) \"pose_world_landmarks\" field that contains the pose landmarks in\n",
      " |          real-world 3D coordinates that are in meters with the origin at the\n",
      " |          center between hips.\n",
      " |          3) \"segmentation_mask\" field that contains the segmentation mask if\n",
      " |             \"enable_segmentation\" is set to true.\n",
      " |  \n",
      " |  ----------------------------------------------------------------------\n",
      " |  Methods inherited from mediapipe.python.solution_base.SolutionBase:\n",
      " |  \n",
      " |  __enter__(self)\n",
      " |      A \"with\" statement support.\n",
      " |  \n",
      " |  __exit__(self, exc_type, exc_val, exc_tb)\n",
      " |      Closes all the input sources and the graph.\n",
      " |  \n",
      " |  close(self) -> None\n",
      " |      Closes all the input sources and the graph.\n",
      " |  \n",
      " |  create_graph_options(self, options_message: google.protobuf.message.Message, values: Mapping[str, Any]) -> google.protobuf.message.Message\n",
      " |      Sets protobuf field values.\n",
      " |      \n",
      " |      Args:\n",
      " |        options_message: the options protobuf message.\n",
      " |        values: field value pairs, where each field may be a \".\" separated path.\n",
      " |      \n",
      " |      Returns:\n",
      " |        the options protobuf message.\n",
      " |  \n",
      " |  reset(self) -> None\n",
      " |      Resets the graph for another run.\n",
      " |  \n",
      " |  ----------------------------------------------------------------------\n",
      " |  Data descriptors inherited from mediapipe.python.solution_base.SolutionBase:\n",
      " |  \n",
      " |  __dict__\n",
      " |      dictionary for instance variables (if defined)\n",
      " |  \n",
      " |  __weakref__\n",
      " |      list of weak references to the object (if defined)\n",
      "\n"
     ]
    }
   ],
   "source": [
    "import mediapipe\n",
    "help(mediapipe.solutions.pose.Pose)"
   ]
  },
  {
   "cell_type": "code",
   "execution_count": null,
   "metadata": {},
   "outputs": [],
   "source": []
  }
 ],
 "metadata": {
  "kernelspec": {
   "display_name": "base",
   "language": "python",
   "name": "python3"
  },
  "language_info": {
   "codemirror_mode": {
    "name": "ipython",
    "version": 3
   },
   "file_extension": ".py",
   "mimetype": "text/x-python",
   "name": "python",
   "nbconvert_exporter": "python",
   "pygments_lexer": "ipython3",
   "version": "3.10.9"
  },
  "orig_nbformat": 4
 },
 "nbformat": 4,
 "nbformat_minor": 2
}
