{
 "cells": [
  {
   "cell_type": "markdown",
   "id": "22af75d6",
   "metadata": {
    "heading_collapsed": true
   },
   "source": [
    "# Input & Output Basic"
   ]
  },
  {
   "cell_type": "markdown",
   "id": "07da9be0",
   "metadata": {
    "hidden": true
   },
   "source": [
    "## Input & Output 1"
   ]
  },
  {
   "cell_type": "code",
   "execution_count": 1,
   "id": "05b79aef",
   "metadata": {
    "ExecuteTime": {
     "end_time": "2023-02-12T11:39:42.951622Z",
     "start_time": "2023-02-12T11:34:11.235159Z"
    },
    "hidden": true
   },
   "outputs": [
    {
     "data": {
      "text/html": [
       "\n",
       "        <iframe\n",
       "            width=\"100%\"\n",
       "            height=\"650\"\n",
       "            src=\"http://127.0.0.1:8050/\"\n",
       "            frameborder=\"0\"\n",
       "            allowfullscreen\n",
       "            \n",
       "        ></iframe>\n",
       "        "
      ],
      "text/plain": [
       "<IPython.lib.display.IFrame at 0x1733db36f10>"
      ]
     },
     "metadata": {},
     "output_type": "display_data"
    }
   ],
   "source": [
    "import dash\n",
    "from dash import html\n",
    "from dash import dcc\n",
    "from dash.dependencies import Input, Output\n",
    "\n",
    "app = dash.Dash()\n",
    "app.layout = html.Div([\n",
    "    \n",
    "    html.H2(id = 'Input H2',\n",
    "           children = ['Input']),\n",
    "    dcc.Input(id = 'input',\n",
    "             value = '글자를 입력하세요'),\n",
    "    \n",
    "    html.Br(),\n",
    "    html.Br(),\n",
    "    \n",
    "    html.H2(id = 'Output H2',\n",
    "           children = ['Output']),\n",
    "    html.Div(id = 'div output',\n",
    "            children = ['아직 입력받지 못했습니다.'])\n",
    "    \n",
    "])\n",
    "@app.callback(Output(component_id ='div output',\n",
    "                    component_property = 'children'),\n",
    "             [Input(component_id = 'input',\n",
    "                   component_property = 'value')])\n",
    "def update_div(value):\n",
    "    return \"입력받은 내용입니다: {}\".format(value)\n",
    "\n",
    "if __name__=='__main__':\n",
    "    app.run_server()\n"
   ]
  },
  {
   "cell_type": "markdown",
   "id": "01d7c910",
   "metadata": {
    "ExecuteTime": {
     "end_time": "2023-02-12T11:30:48.751365Z",
     "start_time": "2023-02-12T11:30:48.745411Z"
    },
    "hidden": true
   },
   "source": [
    "## Input & Output 2"
   ]
  },
  {
   "cell_type": "code",
   "execution_count": 2,
   "id": "33673a3e",
   "metadata": {
    "ExecuteTime": {
     "end_time": "2023-02-12T11:56:14.052187Z",
     "start_time": "2023-02-12T11:52:31.948763Z"
    },
    "hidden": true
   },
   "outputs": [
    {
     "data": {
      "text/html": [
       "\n",
       "        <iframe\n",
       "            width=\"100%\"\n",
       "            height=\"650\"\n",
       "            src=\"http://127.0.0.1:8050/\"\n",
       "            frameborder=\"0\"\n",
       "            allowfullscreen\n",
       "            \n",
       "        ></iframe>\n",
       "        "
      ],
      "text/plain": [
       "<IPython.lib.display.IFrame at 0x1c7c81c6b50>"
      ]
     },
     "metadata": {},
     "output_type": "display_data"
    }
   ],
   "source": [
    "import dash\n",
    "from dash import html\n",
    "from dash import dcc\n",
    "from dash.dependencies import Input, Output\n",
    "\n",
    "options = [\n",
    "    {'label':'딸기', 'value':3000},\n",
    "    {'label':'수박', 'value':10000},\n",
    "    {'label':'바나나', 'value':2000},\n",
    "    {'label':'키위', 'value':1000},\n",
    "    {'label':'사과', 'value':1500},\n",
    "            ]\n",
    "\n",
    "app = dash.Dash()\n",
    "app.layout = html.Div([\n",
    "    \n",
    "    html.H3(id = 'H3 1',\n",
    "           children = ['Label']),\n",
    "    dcc.Dropdown(id = 'dropdown',\n",
    "                options = options),\n",
    "    html.Br(),\n",
    "    html.H3(id = 'H3 2',\n",
    "           children = ['Value']),\n",
    "    html.Div(id = 'div output',\n",
    "            children = ['가격'])\n",
    "])\n",
    "\n",
    "@app.callback(Output(component_id = 'div output',\n",
    "                    component_property = 'children'),\n",
    "             [Input(component_id = 'dropdown',\n",
    "                   component_property = 'value')])\n",
    "def update_div(value):\n",
    "    return \"{}\".format(value)\n",
    "\n",
    "\n",
    "if __name__=='__main__':\n",
    "    app.run_server()\n"
   ]
  },
  {
   "cell_type": "markdown",
   "id": "26d302b4",
   "metadata": {
    "hidden": true
   },
   "source": [
    "## Input & Output 3"
   ]
  },
  {
   "cell_type": "code",
   "execution_count": 7,
   "id": "d3a2c36b",
   "metadata": {
    "ExecuteTime": {
     "start_time": "2023-02-12T12:07:03.134Z"
    },
    "hidden": true
   },
   "outputs": [
    {
     "data": {
      "text/html": [
       "\n",
       "        <iframe\n",
       "            width=\"100%\"\n",
       "            height=\"650\"\n",
       "            src=\"http://127.0.0.1:8050/\"\n",
       "            frameborder=\"0\"\n",
       "            allowfullscreen\n",
       "            \n",
       "        ></iframe>\n",
       "        "
      ],
      "text/plain": [
       "<IPython.lib.display.IFrame at 0x1733dc11730>"
      ]
     },
     "metadata": {},
     "output_type": "display_data"
    },
    {
     "name": "stderr",
     "output_type": "stream",
     "text": [
      "[2023-11-27 18:27:55,515] ERROR in app: Exception on /_dash-update-component [POST]\n",
      "Traceback (most recent call last):\n",
      "  File \"c:\\ProgramData\\Anaconda3\\lib\\site-packages\\flask\\app.py\", line 2447, in wsgi_app\n",
      "    response = self.full_dispatch_request()\n",
      "  File \"c:\\ProgramData\\Anaconda3\\lib\\site-packages\\flask\\app.py\", line 1952, in full_dispatch_request\n",
      "    rv = self.handle_user_exception(e)\n",
      "  File \"c:\\ProgramData\\Anaconda3\\lib\\site-packages\\flask\\app.py\", line 1821, in handle_user_exception\n",
      "    reraise(exc_type, exc_value, tb)\n",
      "  File \"c:\\ProgramData\\Anaconda3\\lib\\site-packages\\flask\\_compat.py\", line 39, in reraise\n",
      "    raise value\n",
      "  File \"c:\\ProgramData\\Anaconda3\\lib\\site-packages\\flask\\app.py\", line 1950, in full_dispatch_request\n",
      "    rv = self.dispatch_request()\n",
      "  File \"c:\\ProgramData\\Anaconda3\\lib\\site-packages\\flask\\app.py\", line 1936, in dispatch_request\n",
      "    return self.view_functions[rule.endpoint](**req.view_args)\n",
      "  File \"c:\\ProgramData\\Anaconda3\\lib\\site-packages\\dash\\dash.py\", line 1310, in dispatch\n",
      "    ctx.run(\n",
      "  File \"c:\\ProgramData\\Anaconda3\\lib\\site-packages\\dash\\_callback.py\", line 442, in add_context\n",
      "    output_value = func(*func_args, **func_kwargs)  # %% callback invoked %%\n",
      "  File \"C:\\Users\\user\\AppData\\Local\\Temp\\ipykernel_18780\\2493914803.py\", line 22, in random_fig\n",
      "    N = int(N)\n",
      "ValueError: invalid literal for int() with base 10: ''\n",
      "[2023-11-27 18:28:08,044] ERROR in app: Exception on /_dash-update-component [POST]\n",
      "Traceback (most recent call last):\n",
      "  File \"c:\\ProgramData\\Anaconda3\\lib\\site-packages\\flask\\app.py\", line 2447, in wsgi_app\n",
      "    response = self.full_dispatch_request()\n",
      "  File \"c:\\ProgramData\\Anaconda3\\lib\\site-packages\\flask\\app.py\", line 1952, in full_dispatch_request\n",
      "    rv = self.handle_user_exception(e)\n",
      "  File \"c:\\ProgramData\\Anaconda3\\lib\\site-packages\\flask\\app.py\", line 1821, in handle_user_exception\n",
      "    reraise(exc_type, exc_value, tb)\n",
      "  File \"c:\\ProgramData\\Anaconda3\\lib\\site-packages\\flask\\_compat.py\", line 39, in reraise\n",
      "    raise value\n",
      "  File \"c:\\ProgramData\\Anaconda3\\lib\\site-packages\\flask\\app.py\", line 1950, in full_dispatch_request\n",
      "    rv = self.dispatch_request()\n",
      "  File \"c:\\ProgramData\\Anaconda3\\lib\\site-packages\\flask\\app.py\", line 1936, in dispatch_request\n",
      "    return self.view_functions[rule.endpoint](**req.view_args)\n",
      "  File \"c:\\ProgramData\\Anaconda3\\lib\\site-packages\\dash\\dash.py\", line 1310, in dispatch\n",
      "    ctx.run(\n",
      "  File \"c:\\ProgramData\\Anaconda3\\lib\\site-packages\\dash\\_callback.py\", line 442, in add_context\n",
      "    output_value = func(*func_args, **func_kwargs)  # %% callback invoked %%\n",
      "  File \"C:\\Users\\user\\AppData\\Local\\Temp\\ipykernel_18780\\2493914803.py\", line 22, in random_fig\n",
      "    N = int(N)\n",
      "ValueError: invalid literal for int() with base 10: ''\n",
      "[2023-11-27 18:28:11,379] ERROR in app: Exception on /_dash-update-component [POST]\n",
      "Traceback (most recent call last):\n",
      "  File \"c:\\ProgramData\\Anaconda3\\lib\\site-packages\\flask\\app.py\", line 2447, in wsgi_app\n",
      "    response = self.full_dispatch_request()\n",
      "  File \"c:\\ProgramData\\Anaconda3\\lib\\site-packages\\flask\\app.py\", line 1952, in full_dispatch_request\n",
      "    rv = self.handle_user_exception(e)\n",
      "  File \"c:\\ProgramData\\Anaconda3\\lib\\site-packages\\flask\\app.py\", line 1821, in handle_user_exception\n",
      "    reraise(exc_type, exc_value, tb)\n",
      "  File \"c:\\ProgramData\\Anaconda3\\lib\\site-packages\\flask\\_compat.py\", line 39, in reraise\n",
      "    raise value\n",
      "  File \"c:\\ProgramData\\Anaconda3\\lib\\site-packages\\flask\\app.py\", line 1950, in full_dispatch_request\n",
      "    rv = self.dispatch_request()\n",
      "  File \"c:\\ProgramData\\Anaconda3\\lib\\site-packages\\flask\\app.py\", line 1936, in dispatch_request\n",
      "    return self.view_functions[rule.endpoint](**req.view_args)\n",
      "  File \"c:\\ProgramData\\Anaconda3\\lib\\site-packages\\dash\\dash.py\", line 1310, in dispatch\n",
      "    ctx.run(\n",
      "  File \"c:\\ProgramData\\Anaconda3\\lib\\site-packages\\dash\\_callback.py\", line 442, in add_context\n",
      "    output_value = func(*func_args, **func_kwargs)  # %% callback invoked %%\n",
      "  File \"C:\\Users\\user\\AppData\\Local\\Temp\\ipykernel_18780\\2493914803.py\", line 22, in random_fig\n",
      "    N = int(N)\n",
      "ValueError: invalid literal for int() with base 10: 'ㅇ'\n",
      "[2023-11-27 18:28:12,279] ERROR in app: Exception on /_dash-update-component [POST]\n",
      "Traceback (most recent call last):\n",
      "  File \"c:\\ProgramData\\Anaconda3\\lib\\site-packages\\flask\\app.py\", line 2447, in wsgi_app\n",
      "    response = self.full_dispatch_request()\n",
      "  File \"c:\\ProgramData\\Anaconda3\\lib\\site-packages\\flask\\app.py\", line 1952, in full_dispatch_request\n",
      "    rv = self.handle_user_exception(e)\n",
      "  File \"c:\\ProgramData\\Anaconda3\\lib\\site-packages\\flask\\app.py\", line 1821, in handle_user_exception\n",
      "    reraise(exc_type, exc_value, tb)\n",
      "  File \"c:\\ProgramData\\Anaconda3\\lib\\site-packages\\flask\\_compat.py\", line 39, in reraise\n",
      "    raise value\n",
      "  File \"c:\\ProgramData\\Anaconda3\\lib\\site-packages\\flask\\app.py\", line 1950, in full_dispatch_request\n",
      "    rv = self.dispatch_request()\n",
      "  File \"c:\\ProgramData\\Anaconda3\\lib\\site-packages\\flask\\app.py\", line 1936, in dispatch_request\n",
      "    return self.view_functions[rule.endpoint](**req.view_args)\n",
      "  File \"c:\\ProgramData\\Anaconda3\\lib\\site-packages\\dash\\dash.py\", line 1310, in dispatch\n",
      "    ctx.run(\n",
      "  File \"c:\\ProgramData\\Anaconda3\\lib\\site-packages\\dash\\_callback.py\", line 442, in add_context\n",
      "    output_value = func(*func_args, **func_kwargs)  # %% callback invoked %%\n",
      "  File \"C:\\Users\\user\\AppData\\Local\\Temp\\ipykernel_18780\\2493914803.py\", line 22, in random_fig\n",
      "    N = int(N)\n",
      "ValueError: invalid literal for int() with base 10: 'ㅇ'\n",
      "[2023-11-27 18:28:13,507] ERROR in app: Exception on /_dash-update-component [POST]\n",
      "Traceback (most recent call last):\n",
      "  File \"c:\\ProgramData\\Anaconda3\\lib\\site-packages\\flask\\app.py\", line 2447, in wsgi_app\n",
      "    response = self.full_dispatch_request()\n",
      "  File \"c:\\ProgramData\\Anaconda3\\lib\\site-packages\\flask\\app.py\", line 1952, in full_dispatch_request\n",
      "    rv = self.handle_user_exception(e)\n",
      "  File \"c:\\ProgramData\\Anaconda3\\lib\\site-packages\\flask\\app.py\", line 1821, in handle_user_exception\n",
      "    reraise(exc_type, exc_value, tb)\n",
      "  File \"c:\\ProgramData\\Anaconda3\\lib\\site-packages\\flask\\_compat.py\", line 39, in reraise\n",
      "    raise value\n",
      "  File \"c:\\ProgramData\\Anaconda3\\lib\\site-packages\\flask\\app.py\", line 1950, in full_dispatch_request\n",
      "    rv = self.dispatch_request()\n",
      "  File \"c:\\ProgramData\\Anaconda3\\lib\\site-packages\\flask\\app.py\", line 1936, in dispatch_request\n",
      "    return self.view_functions[rule.endpoint](**req.view_args)\n",
      "  File \"c:\\ProgramData\\Anaconda3\\lib\\site-packages\\dash\\dash.py\", line 1310, in dispatch\n",
      "    ctx.run(\n",
      "  File \"c:\\ProgramData\\Anaconda3\\lib\\site-packages\\dash\\_callback.py\", line 442, in add_context\n",
      "    output_value = func(*func_args, **func_kwargs)  # %% callback invoked %%\n",
      "  File \"C:\\Users\\user\\AppData\\Local\\Temp\\ipykernel_18780\\2493914803.py\", line 22, in random_fig\n",
      "    N = int(N)\n",
      "ValueError: invalid literal for int() with base 10: ''\n",
      "[2023-11-27 18:28:16,043] ERROR in app: Exception on /_dash-update-component [POST]\n",
      "Traceback (most recent call last):\n",
      "  File \"c:\\ProgramData\\Anaconda3\\lib\\site-packages\\flask\\app.py\", line 2447, in wsgi_app\n",
      "    response = self.full_dispatch_request()\n",
      "  File \"c:\\ProgramData\\Anaconda3\\lib\\site-packages\\flask\\app.py\", line 1952, in full_dispatch_request\n",
      "    rv = self.handle_user_exception(e)\n",
      "  File \"c:\\ProgramData\\Anaconda3\\lib\\site-packages\\flask\\app.py\", line 1821, in handle_user_exception\n",
      "    reraise(exc_type, exc_value, tb)\n",
      "  File \"c:\\ProgramData\\Anaconda3\\lib\\site-packages\\flask\\_compat.py\", line 39, in reraise\n",
      "    raise value\n",
      "  File \"c:\\ProgramData\\Anaconda3\\lib\\site-packages\\flask\\app.py\", line 1950, in full_dispatch_request\n",
      "    rv = self.dispatch_request()\n",
      "  File \"c:\\ProgramData\\Anaconda3\\lib\\site-packages\\flask\\app.py\", line 1936, in dispatch_request\n",
      "    return self.view_functions[rule.endpoint](**req.view_args)\n",
      "  File \"c:\\ProgramData\\Anaconda3\\lib\\site-packages\\dash\\dash.py\", line 1310, in dispatch\n",
      "    ctx.run(\n",
      "  File \"c:\\ProgramData\\Anaconda3\\lib\\site-packages\\dash\\_callback.py\", line 442, in add_context\n",
      "    output_value = func(*func_args, **func_kwargs)  # %% callback invoked %%\n",
      "  File \"C:\\Users\\user\\AppData\\Local\\Temp\\ipykernel_18780\\2493914803.py\", line 22, in random_fig\n",
      "    N = int(N)\n",
      "ValueError: invalid literal for int() with base 10: ''\n",
      "[2023-11-27 18:28:18,202] ERROR in app: Exception on /_dash-update-component [POST]\n",
      "Traceback (most recent call last):\n",
      "  File \"c:\\ProgramData\\Anaconda3\\lib\\site-packages\\flask\\app.py\", line 2447, in wsgi_app\n",
      "    response = self.full_dispatch_request()\n",
      "  File \"c:\\ProgramData\\Anaconda3\\lib\\site-packages\\flask\\app.py\", line 1952, in full_dispatch_request\n",
      "    rv = self.handle_user_exception(e)\n",
      "  File \"c:\\ProgramData\\Anaconda3\\lib\\site-packages\\flask\\app.py\", line 1821, in handle_user_exception\n",
      "    reraise(exc_type, exc_value, tb)\n",
      "  File \"c:\\ProgramData\\Anaconda3\\lib\\site-packages\\flask\\_compat.py\", line 39, in reraise\n",
      "    raise value\n",
      "  File \"c:\\ProgramData\\Anaconda3\\lib\\site-packages\\flask\\app.py\", line 1950, in full_dispatch_request\n",
      "    rv = self.dispatch_request()\n",
      "  File \"c:\\ProgramData\\Anaconda3\\lib\\site-packages\\flask\\app.py\", line 1936, in dispatch_request\n",
      "    return self.view_functions[rule.endpoint](**req.view_args)\n",
      "  File \"c:\\ProgramData\\Anaconda3\\lib\\site-packages\\dash\\dash.py\", line 1310, in dispatch\n",
      "    ctx.run(\n",
      "  File \"c:\\ProgramData\\Anaconda3\\lib\\site-packages\\dash\\_callback.py\", line 442, in add_context\n",
      "    output_value = func(*func_args, **func_kwargs)  # %% callback invoked %%\n",
      "  File \"C:\\Users\\user\\AppData\\Local\\Temp\\ipykernel_18780\\2493914803.py\", line 22, in random_fig\n",
      "    N = int(N)\n",
      "ValueError: invalid literal for int() with base 10: ''\n"
     ]
    }
   ],
   "source": [
    "import dash\n",
    "from dash import html\n",
    "from dash import dcc\n",
    "from dash.dependencies import Input, Output\n",
    "import numpy as np\n",
    "import plotly.graph_objects as go\n",
    "\n",
    "app = dash.Dash()\n",
    "app.layout = html.Div([\n",
    "    \n",
    "    html.H2(id = 'H2',\n",
    "           children = ['Input & Output Example 3']),\n",
    "    dcc.Input(id = 'input Number',\n",
    "             value = 5),\n",
    "    html.Br(),\n",
    "    html.Br(),\n",
    "    dcc.Graph(id = 'graph')\n",
    "])\n",
    "@app.callback(Output('graph', 'figure'),\n",
    "             [Input('input Number', 'value')])\n",
    "def random_fig(N):\n",
    "    N = int(N)\n",
    "    random_x = np.random.randint(0, 500, N)\n",
    "    random_y = np.random.randint(0, 1500, N)\n",
    "    \n",
    "    trace = go.Scatter(x = random_x,\n",
    "                      y = random_y,\n",
    "                      mode = 'markers',\n",
    "                      name = 'Random number'),\n",
    "    layout = go.Layout(title = 'Random Number Graph N:{}'.format(N))\n",
    "    \n",
    "    fig = go.Figure(data = trace, layout = layout)\n",
    "    \n",
    "    return fig\n",
    "    \n",
    "if __name__=='__main__':\n",
    "    app.run_server()\n",
    "\n"
   ]
  },
  {
   "cell_type": "markdown",
   "id": "fe5f2b88",
   "metadata": {
    "heading_collapsed": true
   },
   "source": [
    "# Multilpe Input"
   ]
  },
  {
   "cell_type": "code",
   "execution_count": 9,
   "id": "c6f0af4f",
   "metadata": {
    "ExecuteTime": {
     "end_time": "2023-02-14T12:02:36.485920Z",
     "start_time": "2023-02-14T12:02:36.479104Z"
    },
    "hidden": true
   },
   "outputs": [],
   "source": [
    "import dash\n",
    "from dash import html\n",
    "from dash import dcc\n",
    "from dash.dependencies import Input, Output"
   ]
  },
  {
   "cell_type": "code",
   "execution_count": 14,
   "id": "d5936bce",
   "metadata": {
    "ExecuteTime": {
     "end_time": "2023-02-14T12:16:43.822509Z",
     "start_time": "2023-02-14T12:13:08.683552Z"
    },
    "hidden": true
   },
   "outputs": [
    {
     "data": {
      "text/html": [
       "\n",
       "        <iframe\n",
       "            width=\"100%\"\n",
       "            height=\"650\"\n",
       "            src=\"http://127.0.0.1:8050/\"\n",
       "            frameborder=\"0\"\n",
       "            allowfullscreen\n",
       "            \n",
       "        ></iframe>\n",
       "        "
      ],
      "text/plain": [
       "<IPython.lib.display.IFrame at 0x173642ac130>"
      ]
     },
     "metadata": {},
     "output_type": "display_data"
    },
    {
     "name": "stderr",
     "output_type": "stream",
     "text": [
      "[2023-11-27 18:41:50,237] ERROR in app: Exception on /_dash-update-component [POST]\n",
      "Traceback (most recent call last):\n",
      "  File \"c:\\ProgramData\\Anaconda3\\lib\\site-packages\\flask\\app.py\", line 2447, in wsgi_app\n",
      "    response = self.full_dispatch_request()\n",
      "  File \"c:\\ProgramData\\Anaconda3\\lib\\site-packages\\flask\\app.py\", line 1952, in full_dispatch_request\n",
      "    rv = self.handle_user_exception(e)\n",
      "  File \"c:\\ProgramData\\Anaconda3\\lib\\site-packages\\flask\\app.py\", line 1821, in handle_user_exception\n",
      "    reraise(exc_type, exc_value, tb)\n",
      "  File \"c:\\ProgramData\\Anaconda3\\lib\\site-packages\\flask\\_compat.py\", line 39, in reraise\n",
      "    raise value\n",
      "  File \"c:\\ProgramData\\Anaconda3\\lib\\site-packages\\flask\\app.py\", line 1950, in full_dispatch_request\n",
      "    rv = self.dispatch_request()\n",
      "  File \"c:\\ProgramData\\Anaconda3\\lib\\site-packages\\flask\\app.py\", line 1936, in dispatch_request\n",
      "    return self.view_functions[rule.endpoint](**req.view_args)\n",
      "  File \"c:\\ProgramData\\Anaconda3\\lib\\site-packages\\dash\\dash.py\", line 1310, in dispatch\n",
      "    ctx.run(\n",
      "  File \"c:\\ProgramData\\Anaconda3\\lib\\site-packages\\dash\\_callback.py\", line 442, in add_context\n",
      "    output_value = func(*func_args, **func_kwargs)  # %% callback invoked %%\n",
      "  File \"C:\\Users\\user\\AppData\\Local\\Temp\\ipykernel_18780\\741823282.py\", line 41, in multi_calc\n",
      "    value1 = int(value1)\n",
      "TypeError: int() argument must be a string, a bytes-like object or a number, not 'list'\n"
     ]
    }
   ],
   "source": [
    "app = dash.Dash()\n",
    "\n",
    "app.layout = html.Div([\n",
    "    \n",
    "    # input1\n",
    "    html.Div(id = 'div1',\n",
    "            children = [\n",
    "                \n",
    "                html.H3(id = 'H3 Input1',\n",
    "                       children = ['Input 1']),\n",
    "                dcc.Input(id = 'input1',\n",
    "                         value = ['입력값 1'])\n",
    "                \n",
    "            ]),\n",
    "    \n",
    "    # input2\n",
    "    html.Div(id = 'div2',\n",
    "            children = [\n",
    "                \n",
    "                html.H3(id = 'H3 Input2',\n",
    "                       children = ['Input 2']),\n",
    "                dcc.Input(id = 'input2',\n",
    "                         value = ['입력값 2'])\n",
    "            ]),\n",
    "    \n",
    "    # output\n",
    "    html.Div(id = 'div3',\n",
    "            children = [\n",
    "                \n",
    "                html.H3(id = 'H3 div3',\n",
    "                       children = ['Output']),\n",
    "                html.Div(id = 'output',\n",
    "                        children = ['입력된 내용이 없습니다.'])\n",
    "            ])\n",
    "    \n",
    "])\n",
    "@app.callback(Output(component_id = 'output', component_property = 'children'),\n",
    "             [Input('input1', 'value'),\n",
    "             Input('input2', 'value')])\n",
    "def multi_calc(value1, value2):\n",
    "    value1 = int(value1)\n",
    "    value2 = int(value2)\n",
    "    \n",
    "    return '{} x {} = {} 입니다'.format(value1, value2, value1 * value2)\n",
    "    \n",
    "\n",
    "if __name__=='__main__':\n",
    "    app.run_server()"
   ]
  },
  {
   "cell_type": "markdown",
   "id": "4fa7f1fa",
   "metadata": {
    "heading_collapsed": true
   },
   "source": [
    "# Multiple Output"
   ]
  },
  {
   "cell_type": "code",
   "execution_count": 5,
   "id": "99c075c5",
   "metadata": {
    "ExecuteTime": {
     "end_time": "2023-02-14T12:19:34.849676Z",
     "start_time": "2023-02-14T12:19:34.841570Z"
    },
    "hidden": true
   },
   "outputs": [],
   "source": [
    "import dash\n",
    "from dash import html\n",
    "from dash import dcc\n",
    "from dash.dependencies import Input, Output\n",
    "import numpy as np\n",
    "import plotly.graph_objects as go"
   ]
  },
  {
   "cell_type": "code",
   "execution_count": 21,
   "id": "705d06f4",
   "metadata": {
    "ExecuteTime": {
     "start_time": "2023-02-14T12:28:57.664Z"
    },
    "hidden": true
   },
   "outputs": [
    {
     "data": {
      "text/html": [
       "\n",
       "        <iframe\n",
       "            width=\"100%\"\n",
       "            height=\"650\"\n",
       "            src=\"http://127.0.0.1:8050/\"\n",
       "            frameborder=\"0\"\n",
       "            allowfullscreen\n",
       "            \n",
       "        ></iframe>\n",
       "        "
      ],
      "text/plain": [
       "<IPython.lib.display.IFrame at 0x17364293700>"
      ]
     },
     "metadata": {},
     "output_type": "display_data"
    }
   ],
   "source": [
    "app = dash.Dash()\n",
    "app.layout = html.Div([\n",
    "    \n",
    "    html.H3(id = 'H3',\n",
    "           children = ['Input Number']),\n",
    "    \n",
    "    dcc.Input(id = 'input',\n",
    "             value = '100'), # input 초기값\n",
    "    \n",
    "    html.Br(),\n",
    "    html.Br(),\n",
    "    \n",
    "    html.Div(id = 'output1',\n",
    "            children = ['None']), # 결과값\n",
    "    \n",
    "    dcc.Graph(id = 'output2') # 그래프\n",
    "    \n",
    "])\n",
    "@app.callback([Output('output1', 'children'),\n",
    "              Output('output2', 'figure')],\n",
    "             [Input('input','value')])\n",
    "def output_fune(value):\n",
    "    \n",
    "    value = int(value)\n",
    "    \n",
    "    random_x = np.random.randint(0, 100, value)\n",
    "    random_y = np.random.randint(0, 1000, value)\n",
    "    \n",
    "    x_mean = np.mean(random_x)\n",
    "    y_mean = np.mean(random_y)\n",
    "    \n",
    "    trace = go.Scatter(x = random_x,\n",
    "                      y = random_y,\n",
    "                      mode = 'markers')\n",
    "    \n",
    "    layout = go.Layout(title = 'Random Scatter Chart')\n",
    "    \n",
    "    fig = go.Figure(data = trace, layout = layout)\n",
    "    \n",
    "    mean_result = 'X축 평균: {} & Y축 평균: {}'.format(x_mean, y_mean)\n",
    "    \n",
    "    return mean_result, fig\n",
    "\n",
    "if __name__=='__main__':\n",
    "    app.run_server()"
   ]
  },
  {
   "cell_type": "markdown",
   "id": "d0f05749",
   "metadata": {
    "heading_collapsed": true
   },
   "source": [
    "# State 1"
   ]
  },
  {
   "cell_type": "code",
   "execution_count": 1,
   "id": "c1291c12",
   "metadata": {
    "ExecuteTime": {
     "end_time": "2023-02-19T12:57:26.336622Z",
     "start_time": "2023-02-19T12:57:26.331397Z"
    },
    "hidden": true
   },
   "outputs": [],
   "source": [
    "import dash\n",
    "from dash import html\n",
    "from dash import dcc\n",
    "from dash.dependencies import Input, Output"
   ]
  },
  {
   "cell_type": "code",
   "execution_count": 5,
   "id": "05069500",
   "metadata": {
    "ExecuteTime": {
     "end_time": "2023-02-19T13:05:00.268633Z",
     "start_time": "2023-02-19T13:02:18.964495Z"
    },
    "hidden": true
   },
   "outputs": [
    {
     "data": {
      "text/html": [
       "\n",
       "        <iframe\n",
       "            width=\"100%\"\n",
       "            height=\"650\"\n",
       "            src=\"http://127.0.0.1:8050/\"\n",
       "            frameborder=\"0\"\n",
       "            allowfullscreen\n",
       "            \n",
       "        ></iframe>\n",
       "        "
      ],
      "text/plain": [
       "<IPython.lib.display.IFrame at 0x26119b05460>"
      ]
     },
     "metadata": {},
     "output_type": "display_data"
    }
   ],
   "source": [
    "app = dash.Dash()\n",
    "app.layout = html.Div([\n",
    "    \n",
    "    # Button\n",
    "    html.Div(id = 'div1',\n",
    "            children = [\n",
    "                \n",
    "                html.H3(id = 'H3 Button',\n",
    "                       children = ['Button']),\n",
    "                \n",
    "                html.Button(id = 'button',\n",
    "                           n_clicks = 0,\n",
    "                           children = ['클릭'],\n",
    "                           style = {'fontSize':15})\n",
    "                \n",
    "            ]), # children이 결과 도출할 때 사용하는거니까 버튼도 결과를 도출해야하니까 그 안에 있는거 같음\n",
    "    \n",
    "    # Output\n",
    "    html.Div(id = 'div2',\n",
    "            children = [\n",
    "                \n",
    "                html.H3(id = 'H3 Output',\n",
    "                       children = ['Output']),\n",
    "                \n",
    "                html.Div(id = 'div output',\n",
    "                        children = ['None'])            \n",
    "            ])\n",
    "    \n",
    "])\n",
    "@app.callback(Output('div output', 'children'),\n",
    "             [Input('button', 'n_clicks')])\n",
    "def button_func(n_clicks):\n",
    "    return n_clicks\n",
    "\n",
    "if __name__=='__main__':\n",
    "    app.run_server()"
   ]
  },
  {
   "cell_type": "markdown",
   "id": "10189095",
   "metadata": {},
   "source": [
    "# State 2"
   ]
  },
  {
   "cell_type": "code",
   "execution_count": 9,
   "id": "ae0de06a",
   "metadata": {
    "ExecuteTime": {
     "start_time": "2023-02-19T13:16:39.047Z"
    }
   },
   "outputs": [
    {
     "data": {
      "text/html": [
       "\n",
       "        <iframe\n",
       "            width=\"100%\"\n",
       "            height=\"650\"\n",
       "            src=\"http://127.0.0.1:8050/\"\n",
       "            frameborder=\"0\"\n",
       "            allowfullscreen\n",
       "            \n",
       "        ></iframe>\n",
       "        "
      ],
      "text/plain": [
       "<IPython.lib.display.IFrame at 0x26119bec220>"
      ]
     },
     "metadata": {},
     "output_type": "display_data"
    },
    {
     "name": "stderr",
     "output_type": "stream",
     "text": [
      "[2023-11-27 19:25:36,128] ERROR in app: Exception on /_dash-update-component [POST]\n",
      "Traceback (most recent call last):\n",
      "  File \"c:\\ProgramData\\Anaconda3\\lib\\site-packages\\flask\\app.py\", line 2447, in wsgi_app\n",
      "    response = self.full_dispatch_request()\n",
      "  File \"c:\\ProgramData\\Anaconda3\\lib\\site-packages\\flask\\app.py\", line 1952, in full_dispatch_request\n",
      "    rv = self.handle_user_exception(e)\n",
      "  File \"c:\\ProgramData\\Anaconda3\\lib\\site-packages\\flask\\app.py\", line 1821, in handle_user_exception\n",
      "    reraise(exc_type, exc_value, tb)\n",
      "  File \"c:\\ProgramData\\Anaconda3\\lib\\site-packages\\flask\\_compat.py\", line 39, in reraise\n",
      "    raise value\n",
      "  File \"c:\\ProgramData\\Anaconda3\\lib\\site-packages\\flask\\app.py\", line 1950, in full_dispatch_request\n",
      "    rv = self.dispatch_request()\n",
      "  File \"c:\\ProgramData\\Anaconda3\\lib\\site-packages\\flask\\app.py\", line 1936, in dispatch_request\n",
      "    return self.view_functions[rule.endpoint](**req.view_args)\n",
      "  File \"c:\\ProgramData\\Anaconda3\\lib\\site-packages\\dash\\dash.py\", line 1310, in dispatch\n",
      "    ctx.run(\n",
      "  File \"c:\\ProgramData\\Anaconda3\\lib\\site-packages\\dash\\_callback.py\", line 442, in add_context\n",
      "    output_value = func(*func_args, **func_kwargs)  # %% callback invoked %%\n",
      "  File \"C:\\Users\\user\\AppData\\Local\\Temp\\ipykernel_25424\\3554047596.py\", line 59, in multi_calc\n",
      "    value1 = int(value1)\n",
      "ValueError: invalid literal for int() with base 10: '입력값 2'\n"
     ]
    }
   ],
   "source": [
    "import dash\n",
    "from dash import dcc\n",
    "from dash import html\n",
    "from dash.dependencies import Input, Output, State\n",
    "\n",
    "app = dash.Dash()\n",
    "app.layout = html.Div([\n",
    "    \n",
    "    # Input1\n",
    "    html.Div(id = 'div1',\n",
    "            children = [\n",
    "                \n",
    "                html.H3(id = 'H3 input1',\n",
    "                       children = ['Input1']),\n",
    "                \n",
    "                dcc.Input(id = 'input1',\n",
    "                         value = '입력값 1')\n",
    "            ]),\n",
    "    \n",
    "    # Input2\n",
    "    html.Div(id = 'div2',\n",
    "            children = [\n",
    "                \n",
    "                html.H3(id = 'H3 input2',\n",
    "                       children = ['Input2']),\n",
    "                dcc.Input(id = 'input2',\n",
    "                         value = '입력값 2')\n",
    "                \n",
    "            ]),\n",
    "    # Button\n",
    "    html.Div(id = 'div3',\n",
    "            children = [\n",
    "                \n",
    "                html.H3(id = 'H3 Button',\n",
    "                       children = ['Button']),\n",
    "                html.Button(id = 'button',\n",
    "                           n_clicks = 0,\n",
    "                           children = ['Submit'],\n",
    "                           style = {'fontSize':15})\n",
    "            ]),\n",
    "    \n",
    "    # Output\n",
    "    html.Div(id = 'div4',\n",
    "            children = [\n",
    "                \n",
    "                html.H3(id = 'H3 Output',\n",
    "                       children = ['Output']),\n",
    "                \n",
    "                html.Div(id = 'div output',\n",
    "                        children =['입력된 내용은 없습니다.'])            \n",
    "            ])\n",
    "      \n",
    "])\n",
    "@app.callback(Output('div output', 'children'),\n",
    "             [Input('button','n_clicks')],\n",
    "             [State('input1', 'value'),\n",
    "             State('input2', 'value')])\n",
    "def multi_calc(n_clicks, value1, value2):\n",
    "    value1 = int(value1)\n",
    "    value2 = int(value2)\n",
    "    return '{} x {} = {} 입니다'.format(value1, value2, value1 * value2)\n",
    "\n",
    "if __name__=='__main__':\n",
    "    app.run_server()"
   ]
  },
  {
   "cell_type": "code",
   "execution_count": null,
   "id": "8a8d2d11",
   "metadata": {},
   "outputs": [],
   "source": []
  }
 ],
 "metadata": {
  "hide_input": false,
  "kernelspec": {
   "display_name": "Python 3 (ipykernel)",
   "language": "python",
   "name": "python3"
  },
  "language_info": {
   "codemirror_mode": {
    "name": "ipython",
    "version": 3
   },
   "file_extension": ".py",
   "mimetype": "text/x-python",
   "name": "python",
   "nbconvert_exporter": "python",
   "pygments_lexer": "ipython3",
   "version": "3.9.13"
  },
  "toc": {
   "base_numbering": 1,
   "nav_menu": {},
   "number_sections": true,
   "sideBar": true,
   "skip_h1_title": false,
   "title_cell": "Table of Contents",
   "title_sidebar": "Contents",
   "toc_cell": false,
   "toc_position": {},
   "toc_section_display": true,
   "toc_window_display": true
  },
  "varInspector": {
   "cols": {
    "lenName": 16,
    "lenType": 16,
    "lenVar": 40
   },
   "kernels_config": {
    "python": {
     "delete_cmd_postfix": "",
     "delete_cmd_prefix": "del ",
     "library": "var_list.py",
     "varRefreshCmd": "print(var_dic_list())"
    },
    "r": {
     "delete_cmd_postfix": ") ",
     "delete_cmd_prefix": "rm(",
     "library": "var_list.r",
     "varRefreshCmd": "cat(var_dic_list()) "
    }
   },
   "types_to_exclude": [
    "module",
    "function",
    "builtin_function_or_method",
    "instance",
    "_Feature"
   ],
   "window_display": false
  }
 },
 "nbformat": 4,
 "nbformat_minor": 5
}
