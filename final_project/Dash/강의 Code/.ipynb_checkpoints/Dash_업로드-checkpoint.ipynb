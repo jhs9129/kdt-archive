{
 "cells": [
  {
   "cell_type": "markdown",
   "id": "ef3d4ec1",
   "metadata": {
    "heading_collapsed": true
   },
   "source": [
    "# Dash-html-components"
   ]
  },
  {
   "cell_type": "markdown",
   "id": "0b8d2d83",
   "metadata": {
    "heading_collapsed": true,
    "hidden": true
   },
   "source": [
    "## Div _ 1"
   ]
  },
  {
   "cell_type": "code",
   "execution_count": 6,
   "id": "758072d2",
   "metadata": {
    "ExecuteTime": {
     "end_time": "2023-01-24T09:54:39.318048Z",
     "start_time": "2023-01-24T09:54:36.773249Z"
    },
    "hidden": true
   },
   "outputs": [
    {
     "name": "stdout",
     "output_type": "stream",
     "text": [
      "Dash is running on http://127.0.0.1:8050/\n",
      "\n",
      "Dash is running on http://127.0.0.1:8050/\n",
      "\n",
      "Dash is running on http://127.0.0.1:8050/\n",
      "\n",
      "Dash is running on http://127.0.0.1:8050/\n",
      "\n",
      "Dash is running on http://127.0.0.1:8050/\n",
      "\n",
      "Dash is running on http://127.0.0.1:8050/\n",
      "\n",
      " * Serving Flask app \"__main__\" (lazy loading)\n",
      " * Environment: production\n",
      "\u001b[31m   WARNING: This is a development server. Do not use it in a production deployment.\u001b[0m\n",
      "\u001b[2m   Use a production WSGI server instead.\u001b[0m\n",
      " * Debug mode: off\n"
     ]
    },
    {
     "name": "stderr",
     "output_type": "stream",
     "text": [
      " * Running on http://127.0.0.1:8050/ (Press CTRL+C to quit)\n"
     ]
    }
   ],
   "source": [
    "# 모듈 불러오기\n",
    "import dash\n",
    "from dash import html\n",
    "\n",
    "# app 객체생성\n",
    "app = dash.Dash()\n",
    "\n",
    "# app 레이아웃 설정\n",
    "app.layout = html.Div(id = 'main_div', children = [\n",
    "    \n",
    "    html.Div(id = 'layout1', children = ['Hello Python']),\n",
    "    html.Div(id = 'layout2', children = ['안녕 파이썬'])\n",
    "    \n",
    "])\n",
    "\n",
    "# app 실행\n",
    "if __name__=='__main__':\n",
    "    app.run_server()"
   ]
  },
  {
   "cell_type": "markdown",
   "id": "b9287fa2",
   "metadata": {
    "heading_collapsed": true,
    "hidden": true
   },
   "source": [
    "## Div _ 2 _Style"
   ]
  },
  {
   "cell_type": "code",
   "execution_count": 1,
   "id": "7b50a387",
   "metadata": {
    "ExecuteTime": {
     "end_time": "2023-01-25T12:01:38.585911Z",
     "start_time": "2023-01-25T12:01:35.706397Z"
    },
    "hidden": true
   },
   "outputs": [
    {
     "name": "stdout",
     "output_type": "stream",
     "text": [
      "Dash is running on http://127.0.0.1:8050/\n",
      "\n",
      " * Serving Flask app \"__main__\" (lazy loading)\n",
      " * Environment: production\n",
      "\u001b[31m   WARNING: This is a development server. Do not use it in a production deployment.\u001b[0m\n",
      "\u001b[2m   Use a production WSGI server instead.\u001b[0m\n",
      " * Debug mode: off\n"
     ]
    },
    {
     "name": "stderr",
     "output_type": "stream",
     "text": [
      " * Running on http://127.0.0.1:8050/ (Press CTRL+C to quit)\n"
     ]
    }
   ],
   "source": [
    "# 모듈 불러오기\n",
    "import dash\n",
    "from dash import html\n",
    "\n",
    "# app 객체생성\n",
    "app = dash.Dash()\n",
    "\n",
    "# app 레이아웃 설정\n",
    "app.layout = html.Div(id = 'main_div', children = [\n",
    "    \n",
    "    html.Div(id = 'layout1', children = ['Hello Python'], style={'border':'red solid',\n",
    "                                                                'textAlign':'center',\n",
    "                                                                'width':'30%',\n",
    "                                                                'display':'inline-block'}),\n",
    "    html.Div(id = 'layout2', children = ['안녕 파이썬'], style={'border':'green solid',\n",
    "                                                          'textAlign':'center',\n",
    "                                                          'width':'20%',\n",
    "                                                          'display':'inline-block'}),\n",
    "    html.Div(id = 'layout3', children = ['pyton & web'], style = {'border': 'black solid',\n",
    "                                                                 'textAlign':'center',\n",
    "                                                                 'width':'98.25%'})\n",
    "    \n",
    "])\n",
    "\n",
    "# app 실행\n",
    "if __name__=='__main__':\n",
    "    app.run_server()"
   ]
  },
  {
   "cell_type": "markdown",
   "id": "02654b54",
   "metadata": {
    "heading_collapsed": true,
    "hidden": true
   },
   "source": [
    "## H1 ~ H6 & Br"
   ]
  },
  {
   "cell_type": "code",
   "execution_count": 8,
   "id": "297452df",
   "metadata": {
    "ExecuteTime": {
     "end_time": "2023-01-25T12:15:28.056146Z",
     "start_time": "2023-01-25T12:13:32.173504Z"
    },
    "hidden": true
   },
   "outputs": [
    {
     "name": "stdout",
     "output_type": "stream",
     "text": [
      "Dash is running on http://127.0.0.1:8050/\n",
      "\n",
      "Dash is running on http://127.0.0.1:8050/\n",
      "\n",
      "Dash is running on http://127.0.0.1:8050/\n",
      "\n",
      "Dash is running on http://127.0.0.1:8050/\n",
      "\n",
      "Dash is running on http://127.0.0.1:8050/\n",
      "\n",
      "Dash is running on http://127.0.0.1:8050/\n",
      "\n",
      "Dash is running on http://127.0.0.1:8050/\n",
      "\n",
      " * Serving Flask app \"__main__\" (lazy loading)\n",
      " * Environment: production\n",
      "\u001b[31m   WARNING: This is a development server. Do not use it in a production deployment.\u001b[0m\n",
      "\u001b[2m   Use a production WSGI server instead.\u001b[0m\n",
      " * Debug mode: off\n"
     ]
    },
    {
     "name": "stderr",
     "output_type": "stream",
     "text": [
      " * Running on http://127.0.0.1:8050/ (Press CTRL+C to quit)\n",
      "127.0.0.1 - - [25/Jan/2023 21:13:34] \"GET / HTTP/1.1\" 200 -\n",
      "127.0.0.1 - - [25/Jan/2023 21:13:34] \"GET /_dash-layout HTTP/1.1\" 200 -\n",
      "127.0.0.1 - - [25/Jan/2023 21:13:34] \"GET /_dash-dependencies HTTP/1.1\" 200 -\n",
      "127.0.0.1 - - [25/Jan/2023 21:13:34] \"GET /_favicon.ico?v=2.7.0 HTTP/1.1\" 200 -\n"
     ]
    }
   ],
   "source": [
    "import dash\n",
    "from dash import html\n",
    "\n",
    "app = dash.Dash()\n",
    "\n",
    "app.layout = html.Div(id = 'main_div', children = [\n",
    "    \n",
    "    html.Div(children = ['안녕 파이썬'], style = {'border':'red solid'}),\n",
    "    html.Div(children = ['안녕 파이썬'], style = {'border':'blue solid'}),\n",
    "    html.Br(),\n",
    "    html.Br(),\n",
    "    html.Div(children = ['안녕 파이썬'], style = {'border':'red solid'}),\n",
    "    html.Br(),\n",
    "    html.Br(),\n",
    "    html.Br(),\n",
    "    html.Div(children = ['안녕 파이썬'], style = {'border':'red solid'}),\n",
    "    \n",
    "    html.H1(children = ['안녕 파이썬'], style = {'border':'blue solid'}),\n",
    "    html.H2(children = ['안녕 파이썬'], style = {'border':'green solid'}),\n",
    "    html.H3(children = ['안녕 파이썬'], style = {'border':'gray solid'}),\n",
    "    html.H4(children = ['안녕 파이썬'], style = {'border':'black solid'}),\n",
    "    html.H5(children = ['안녕 파이썬'], style = {'border':'red solid'}),\n",
    "    html.H6(children = ['안녕 파이썬'], style = {'border':'red solid'})\n",
    "    \n",
    "])\n",
    "\n",
    "if __name__=='__main__':\n",
    "    app.run_server()"
   ]
  },
  {
   "cell_type": "markdown",
   "id": "fc412aff",
   "metadata": {
    "hidden": true
   },
   "source": [
    "## Button"
   ]
  },
  {
   "cell_type": "code",
   "execution_count": 10,
   "id": "108f1a1e",
   "metadata": {
    "ExecuteTime": {
     "end_time": "2023-01-25T12:24:55.728488Z",
     "start_time": "2023-01-25T12:22:38.948777Z"
    },
    "hidden": true
   },
   "outputs": [
    {
     "name": "stdout",
     "output_type": "stream",
     "text": [
      "Dash is running on http://127.0.0.1:8050/\n",
      "\n",
      "Dash is running on http://127.0.0.1:8050/\n",
      "\n",
      "Dash is running on http://127.0.0.1:8050/\n",
      "\n",
      "Dash is running on http://127.0.0.1:8050/\n",
      "\n",
      "Dash is running on http://127.0.0.1:8050/\n",
      "\n",
      "Dash is running on http://127.0.0.1:8050/\n",
      "\n",
      "Dash is running on http://127.0.0.1:8050/\n",
      "\n",
      "Dash is running on http://127.0.0.1:8050/\n",
      "\n",
      " * Serving Flask app \"__main__\" (lazy loading)\n",
      " * Environment: production\n",
      "\u001b[31m   WARNING: This is a development server. Do not use it in a production deployment.\u001b[0m\n",
      "\u001b[2m   Use a production WSGI server instead.\u001b[0m\n",
      " * Debug mode: off\n"
     ]
    },
    {
     "name": "stderr",
     "output_type": "stream",
     "text": [
      " * Running on http://127.0.0.1:8050/ (Press CTRL+C to quit)\n"
     ]
    }
   ],
   "source": [
    "import dash\n",
    "from dash import html\n",
    "\n",
    "app = dash.Dash()\n",
    "app.layout = html.Div([\n",
    "    \n",
    "    html.Div(children = ['Button']),\n",
    "    \n",
    "    html.Button(children = ['Button'])\n",
    "    \n",
    "])\n",
    "\n",
    "if __name__=='__main__':\n",
    "    app.run_server()"
   ]
  },
  {
   "cell_type": "markdown",
   "id": "fbe9a52f",
   "metadata": {},
   "source": [
    "# Dash-Core-Components"
   ]
  },
  {
   "cell_type": "markdown",
   "id": "f90a45a4",
   "metadata": {},
   "source": [
    "## Graph"
   ]
  },
  {
   "cell_type": "code",
   "execution_count": null,
   "id": "70e024cf",
   "metadata": {
    "ExecuteTime": {
     "start_time": "2023-01-31T13:02:12.588Z"
    }
   },
   "outputs": [
    {
     "name": "stdout",
     "output_type": "stream",
     "text": [
      "Dash is running on http://127.0.0.1:8050/\n",
      "\n",
      "Dash is running on http://127.0.0.1:8050/\n",
      "\n",
      "Dash is running on http://127.0.0.1:8050/\n",
      "\n",
      "Dash is running on http://127.0.0.1:8050/\n",
      "\n",
      " * Serving Flask app \"__main__\" (lazy loading)\n",
      " * Environment: production\n",
      "\u001b[31m   WARNING: This is a development server. Do not use it in a production deployment.\u001b[0m\n",
      "\u001b[2m   Use a production WSGI server instead.\u001b[0m\n",
      " * Debug mode: off\n"
     ]
    },
    {
     "name": "stderr",
     "output_type": "stream",
     "text": [
      " * Running on http://127.0.0.1:8050/ (Press CTRL+C to quit)\n",
      "127.0.0.1 - - [31/Jan/2023 22:02:16] \"GET / HTTP/1.1\" 200 -\n",
      "127.0.0.1 - - [31/Jan/2023 22:02:16] \"GET /_dash-layout HTTP/1.1\" 200 -\n",
      "127.0.0.1 - - [31/Jan/2023 22:02:16] \"GET /_dash-dependencies HTTP/1.1\" 200 -\n",
      "127.0.0.1 - - [31/Jan/2023 22:02:16] \"GET /_favicon.ico?v=2.7.0 HTTP/1.1\" 200 -\n",
      "127.0.0.1 - - [31/Jan/2023 22:02:16] \"GET /_dash-component-suites/dash/dcc/async-graph.js HTTP/1.1\" 200 -\n",
      "127.0.0.1 - - [31/Jan/2023 22:02:16] \"GET /_dash-component-suites/dash/dcc/async-plotlyjs.js HTTP/1.1\" 200 -\n"
     ]
    }
   ],
   "source": [
    "import dash\n",
    "from dash import html\n",
    "from dash import dcc\n",
    "import plotly.graph_objects as go\n",
    "import pandas as pd\n",
    "import numpy as np\n",
    "\n",
    "num = 100\n",
    "date = pd.date_range('2022-1-1', periods = num)\n",
    "\n",
    "trend = np.linspace(0, 250, num)\n",
    "\n",
    "random_1 = np.random.randint(0, 100, num)\n",
    "random_2 = np.random.randint(0, 100, num) + trend\n",
    "\n",
    "df = pd.DataFrame([random_1, random_2]).T\n",
    "df.index = date\n",
    "df.columns = ['random_1', 'random_2']\n",
    "df\n",
    "\n",
    "trace1 = go.Scatter(x = df.index, y = df['random_1'], name = 'random_1', mode = 'markers')\n",
    "trace2 = go.Scatter(x = df.index, y = df['random_2'], name = 'random_2')\n",
    "\n",
    "layout = go.Layout(title = 'Radnom Number')\n",
    "\n",
    "fig = go.Figure(data = [trace1, trace2], layout = layout)\n",
    "\n",
    "app = dash.Dash()\n",
    "\n",
    "app.layout = html.Div([\n",
    "    \n",
    "    html.H1(id = 'H1',\n",
    "           children = 'Dash-Cor-Components 연습',\n",
    "           style = {'textAlign':'center'}),\n",
    "    \n",
    "    html.Div(id = 'Div1',\n",
    "            children = [\n",
    "                \n",
    "                html.H3(id = 'H3',\n",
    "                       children = 'Random Number Figure'),\n",
    "                \n",
    "                dcc.Graph(id = 'Figure',\n",
    "                         figure = fig)\n",
    "            ])\n",
    "    \n",
    "])\n",
    "\n",
    "if __name__=='__main__':\n",
    "    app.run_server()"
   ]
  },
  {
   "cell_type": "code",
   "execution_count": null,
   "id": "b73686f0",
   "metadata": {
    "ExecuteTime": {
     "end_time": "2023-01-31T12:57:42.870124Z",
     "start_time": "2023-01-31T12:57:42.862835Z"
    }
   },
   "outputs": [],
   "source": []
  },
  {
   "cell_type": "code",
   "execution_count": null,
   "id": "a79dec54",
   "metadata": {},
   "outputs": [],
   "source": []
  }
 ],
 "metadata": {
  "hide_input": false,
  "kernelspec": {
   "display_name": "Python 3 (ipykernel)",
   "language": "python",
   "name": "python3"
  },
  "language_info": {
   "codemirror_mode": {
    "name": "ipython",
    "version": 3
   },
   "file_extension": ".py",
   "mimetype": "text/x-python",
   "name": "python",
   "nbconvert_exporter": "python",
   "pygments_lexer": "ipython3",
   "version": "3.9.7"
  },
  "toc": {
   "base_numbering": 1,
   "nav_menu": {},
   "number_sections": true,
   "sideBar": true,
   "skip_h1_title": false,
   "title_cell": "Table of Contents",
   "title_sidebar": "Contents",
   "toc_cell": false,
   "toc_position": {
    "height": "calc(100% - 180px)",
    "left": "10px",
    "top": "150px",
    "width": "291.712px"
   },
   "toc_section_display": true,
   "toc_window_display": true
  },
  "varInspector": {
   "cols": {
    "lenName": 16,
    "lenType": 16,
    "lenVar": 40
   },
   "kernels_config": {
    "python": {
     "delete_cmd_postfix": "",
     "delete_cmd_prefix": "del ",
     "library": "var_list.py",
     "varRefreshCmd": "print(var_dic_list())"
    },
    "r": {
     "delete_cmd_postfix": ") ",
     "delete_cmd_prefix": "rm(",
     "library": "var_list.r",
     "varRefreshCmd": "cat(var_dic_list()) "
    }
   },
   "types_to_exclude": [
    "module",
    "function",
    "builtin_function_or_method",
    "instance",
    "_Feature"
   ],
   "window_display": false
  }
 },
 "nbformat": 4,
 "nbformat_minor": 5
}
