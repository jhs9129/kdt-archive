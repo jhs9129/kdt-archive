{
 "cells": [
  {
   "cell_type": "markdown",
   "id": "ef3d4ec1",
   "metadata": {
    "heading_collapsed": true
   },
   "source": [
    "# Dash-html-components"
   ]
  },
  {
   "cell_type": "markdown",
   "id": "0b8d2d83",
   "metadata": {
    "heading_collapsed": true,
    "hidden": true
   },
   "source": [
    "## Div _ 1"
   ]
  },
  {
   "cell_type": "code",
   "execution_count": 4,
   "id": "758072d2",
   "metadata": {
    "ExecuteTime": {
     "end_time": "2023-01-24T09:54:39.318048Z",
     "start_time": "2023-01-24T09:54:36.773249Z"
    },
    "hidden": true
   },
   "outputs": [
    {
     "data": {
      "text/html": [
       "\n",
       "        <iframe\n",
       "            width=\"100%\"\n",
       "            height=\"650\"\n",
       "            src=\"http://127.0.0.1:8050/\"\n",
       "            frameborder=\"0\"\n",
       "            allowfullscreen\n",
       "            \n",
       "        ></iframe>\n",
       "        "
      ],
      "text/plain": [
       "<IPython.lib.display.IFrame at 0x2132bac0ca0>"
      ]
     },
     "metadata": {},
     "output_type": "display_data"
    }
   ],
   "source": [
    "# 모듈 불러오기\n",
    "import dash\n",
    "from dash import html\n",
    "\n",
    "# app 객체생성\n",
    "app = dash.Dash()\n",
    "\n",
    "# app 레이아웃 설정\n",
    "app.layout = html.Div(id = 'main_div', children = [\n",
    "    \n",
    "    html.Div(id = 'layout1', children = ['Hello Python']),\n",
    "    html.Div(id = 'layout2', children = ['안녕 파이썬'])\n",
    "    \n",
    "])\n",
    "\n",
    "# app 실행\n",
    "if __name__=='__main__':\n",
    "    app.run_server()"
   ]
  },
  {
   "cell_type": "markdown",
   "id": "b9287fa2",
   "metadata": {
    "heading_collapsed": true,
    "hidden": true
   },
   "source": [
    "## Div _ 2 _Style"
   ]
  },
  {
   "cell_type": "code",
   "execution_count": 5,
   "id": "7b50a387",
   "metadata": {
    "ExecuteTime": {
     "end_time": "2023-01-25T12:01:38.585911Z",
     "start_time": "2023-01-25T12:01:35.706397Z"
    },
    "hidden": true
   },
   "outputs": [
    {
     "data": {
      "text/html": [
       "\n",
       "        <iframe\n",
       "            width=\"100%\"\n",
       "            height=\"650\"\n",
       "            src=\"http://127.0.0.1:8050/\"\n",
       "            frameborder=\"0\"\n",
       "            allowfullscreen\n",
       "            \n",
       "        ></iframe>\n",
       "        "
      ],
      "text/plain": [
       "<IPython.lib.display.IFrame at 0x2132bb14250>"
      ]
     },
     "metadata": {},
     "output_type": "display_data"
    }
   ],
   "source": [
    "# 모듈 불러오기\n",
    "import dash\n",
    "from dash import html\n",
    "\n",
    "# app 객체생성\n",
    "app = dash.Dash()\n",
    "\n",
    "# app 레이아웃 설정\n",
    "app.layout = html.Div(id = 'main_div', children = [\n",
    "    \n",
    "    html.Div(id = 'layout1', children = ['Hello Python'], style={'border':'red solid',\n",
    "                                                                'textAlign':'center',\n",
    "                                                                'width':'30%',\n",
    "                                                                'display':'inline-block'}),\n",
    "    html.Div(id = 'layout2', children = ['안녕 파이썬'], style={'border':'green solid',\n",
    "                                                          'textAlign':'center',\n",
    "                                                          'width':'20%',\n",
    "                                                          'display':'inline-block'}),\n",
    "    html.Div(id = 'layout3', children = ['pyton & web'], style = {'border': 'black solid',\n",
    "                                                                 'textAlign':'center',\n",
    "                                                                 'width':'98.25%'})\n",
    "    \n",
    "])\n",
    "\n",
    "# app 실행\n",
    "if __name__=='__main__':\n",
    "    app.run_server()"
   ]
  },
  {
   "cell_type": "markdown",
   "id": "02654b54",
   "metadata": {
    "heading_collapsed": true,
    "hidden": true
   },
   "source": [
    "## H1 ~ H6 & Br"
   ]
  },
  {
   "cell_type": "code",
   "execution_count": 1,
   "id": "297452df",
   "metadata": {
    "ExecuteTime": {
     "end_time": "2023-01-25T12:15:28.056146Z",
     "start_time": "2023-01-25T12:13:32.173504Z"
    },
    "hidden": true
   },
   "outputs": [
    {
     "data": {
      "text/html": [
       "\n",
       "        <iframe\n",
       "            width=\"100%\"\n",
       "            height=\"650\"\n",
       "            src=\"http://127.0.0.1:8050/\"\n",
       "            frameborder=\"0\"\n",
       "            allowfullscreen\n",
       "            \n",
       "        ></iframe>\n",
       "        "
      ],
      "text/plain": [
       "<IPython.lib.display.IFrame at 0x21236f5ffd0>"
      ]
     },
     "metadata": {},
     "output_type": "display_data"
    }
   ],
   "source": [
    "import dash\n",
    "from dash import html\n",
    "\n",
    "app = dash.Dash()\n",
    "\n",
    "app.layout = html.Div(id = 'main_div', children = [\n",
    "    \n",
    "    html.Div(children = ['안녕 파이썬'], style = {'border':'red solid'}),\n",
    "    html.Div(children = ['안녕 파이썬'], style = {'border':'blue solid'}),\n",
    "    html.Br(),\n",
    "    html.Br(),\n",
    "    html.Div(children = ['안녕 파이썬'], style = {'border':'red solid'}),\n",
    "    html.Br(),\n",
    "    html.Br(),\n",
    "    html.Br(),\n",
    "    html.Div(children = ['안녕 파이썬'], style = {'border':'red solid'}),\n",
    "    \n",
    "    html.H1(children = ['안녕 파이썬'], style = {'border':'blue solid'}),\n",
    "    html.H2(children = ['안녕 파이썬'], style = {'border':'green solid'}),\n",
    "    html.H3(children = ['안녕 파이썬'], style = {'border':'gray solid'}),\n",
    "    html.H4(children = ['안녕 파이썬'], style = {'border':'black solid'}),\n",
    "    html.H5(children = ['안녕 파이썬'], style = {'border':'red solid'}),\n",
    "    html.H6(children = ['안녕 파이썬'], style = {'border':'red solid'})\n",
    "    \n",
    "])\n",
    "\n",
    "if __name__=='__main__':\n",
    "    app.run_server()"
   ]
  },
  {
   "cell_type": "markdown",
   "id": "fc412aff",
   "metadata": {
    "hidden": true
   },
   "source": [
    "## Button"
   ]
  },
  {
   "cell_type": "code",
   "execution_count": 10,
   "id": "108f1a1e",
   "metadata": {
    "ExecuteTime": {
     "end_time": "2023-01-25T12:24:55.728488Z",
     "start_time": "2023-01-25T12:22:38.948777Z"
    },
    "hidden": true
   },
   "outputs": [
    {
     "data": {
      "text/html": [
       "\n",
       "        <iframe\n",
       "            width=\"100%\"\n",
       "            height=\"650\"\n",
       "            src=\"http://127.0.0.1:8050/\"\n",
       "            frameborder=\"0\"\n",
       "            allowfullscreen\n",
       "            \n",
       "        ></iframe>\n",
       "        "
      ],
      "text/plain": [
       "<IPython.lib.display.IFrame at 0x2132bb3d1f0>"
      ]
     },
     "metadata": {},
     "output_type": "display_data"
    }
   ],
   "source": [
    "import dash\n",
    "from dash import html\n",
    "\n",
    "app = dash.Dash()\n",
    "app.layout = html.Div([\n",
    "    \n",
    "    html.Div(children = ['Button']),\n",
    "    \n",
    "    html.Button(children = ['Button'])\n",
    "    \n",
    "])\n",
    "\n",
    "if __name__=='__main__':\n",
    "    app.run_server()"
   ]
  },
  {
   "cell_type": "markdown",
   "id": "fbe9a52f",
   "metadata": {},
   "source": [
    "# Dash-Core-Components"
   ]
  },
  {
   "cell_type": "markdown",
   "id": "f90a45a4",
   "metadata": {
    "heading_collapsed": true
   },
   "source": [
    "## Graph"
   ]
  },
  {
   "cell_type": "code",
   "execution_count": 2,
   "id": "70e024cf",
   "metadata": {
    "ExecuteTime": {
     "start_time": "2023-01-31T13:02:12.588Z"
    },
    "hidden": true
   },
   "outputs": [
    {
     "data": {
      "text/html": [
       "\n",
       "        <iframe\n",
       "            width=\"100%\"\n",
       "            height=\"650\"\n",
       "            src=\"http://127.0.0.1:8050/\"\n",
       "            frameborder=\"0\"\n",
       "            allowfullscreen\n",
       "            \n",
       "        ></iframe>\n",
       "        "
      ],
      "text/plain": [
       "<IPython.lib.display.IFrame at 0x2125e45a2b0>"
      ]
     },
     "metadata": {},
     "output_type": "display_data"
    }
   ],
   "source": [
    "import dash\n",
    "from dash import html\n",
    "from dash import dcc # 데시코 컴퍼넌트\n",
    "import plotly.graph_objects as go\n",
    "import pandas as pd\n",
    "import numpy as np\n",
    "\n",
    "num = 100\n",
    "date = pd.date_range('2022-1-1', periods = num) # 2022-01-01 부터 100개의 날짜 생성\n",
    " \n",
    "trend = np.linspace(0, 250, num) # 0에서 250개 까지 임으로 num개의 값을 만들어줌\n",
    "\n",
    "random_1 = np.random.randint(0, 100, num)\n",
    "random_2 = np.random.randint(0, 100, num) + trend\n",
    "\n",
    "df = pd.DataFrame([random_1, random_2]).T\n",
    "df.index = date\n",
    "df.columns = ['random_1', 'random_2']\n",
    "df\n",
    "\n",
    "trace1 = go.Scatter(x = df.index, y = df['random_1'], name = 'random_1', mode = 'markers')\n",
    "trace2 = go.Scatter(x = df.index, y = df['random_2'], name = 'random_2')\n",
    "\n",
    "layout = go.Layout(title = 'Random Number')\n",
    "\n",
    "fig = go.Figure(data = [trace1, trace2], layout = layout)\n",
    "\n",
    "app = dash.Dash()\n",
    "\n",
    "app.layout = html.Div([\n",
    "    \n",
    "    html.H1(id = 'H1',\n",
    "           children = 'Dash-Cor-Components 연습',\n",
    "           style = {'textAlign':'center'}),\n",
    "    \n",
    "    html.Div(id = 'Div1', # 블록 안 블록 생성\n",
    "            children = [\n",
    "                \n",
    "                html.H3(id = 'H3',\n",
    "                       children = 'Random Number Figure'),\n",
    "                \n",
    "                dcc.Graph(id = 'Figure',\n",
    "                         figure = fig) # 그래프를 HTML에 보여줌\n",
    "            ])\n",
    "    \n",
    "])\n",
    "\n",
    "if __name__=='__main__':\n",
    "    app.run_server()"
   ]
  },
  {
   "cell_type": "markdown",
   "id": "3a62a0b2",
   "metadata": {
    "ExecuteTime": {
     "end_time": "2023-01-31T12:57:42.870124Z",
     "start_time": "2023-01-31T12:57:42.862835Z"
    },
    "heading_collapsed": true
   },
   "source": [
    "## DropDown"
   ]
  },
  {
   "cell_type": "code",
   "execution_count": 16,
   "id": "a79dec54",
   "metadata": {
    "ExecuteTime": {
     "end_time": "2023-02-11T14:32:53.181358Z",
     "start_time": "2023-02-11T14:27:58.786522Z"
    },
    "hidden": true
   },
   "outputs": [
    {
     "data": {
      "text/html": [
       "\n",
       "        <iframe\n",
       "            width=\"100%\"\n",
       "            height=\"650\"\n",
       "            src=\"http://127.0.0.1:8050/\"\n",
       "            frameborder=\"0\"\n",
       "            allowfullscreen\n",
       "            \n",
       "        ></iframe>\n",
       "        "
      ],
      "text/plain": [
       "<IPython.lib.display.IFrame at 0x21353f55880>"
      ]
     },
     "metadata": {},
     "output_type": "display_data"
    }
   ],
   "source": [
    "import dash\n",
    "from dash import html\n",
    "from dash import dcc\n",
    "\n",
    "app = dash.Dash()\n",
    "app.layout = html.Div([\n",
    "    \n",
    "    html.H1(id = 'H1',\n",
    "            children = ['DropDown Example']),\n",
    "    \n",
    "    dcc.Dropdown(id = 'dropdown',\n",
    "                options = [\n",
    "                    {'label':'딸기', 'value':3000},\n",
    "                    {'label':'수박', 'value':10000},\n",
    "                    {'label':'바나나', 'value':2000},\n",
    "                    {'label':'키위', 'value':1000},\n",
    "                    {'label':'사과', 'value':1500},\n",
    "                ],\n",
    "                placeholder = '과일을 선택해주세요', # 시작 dropdown에 표시됨.\n",
    "                multi = False) # true로 하게된다면 멀티로 값이 선택이 된다.\n",
    "])\n",
    "\n",
    "if __name__=='__main__':\n",
    "    app.run_server()\n"
   ]
  },
  {
   "cell_type": "markdown",
   "id": "5ad234fc",
   "metadata": {
    "heading_collapsed": true
   },
   "source": [
    "## Slider & RangeSlider"
   ]
  },
  {
   "cell_type": "code",
   "execution_count": 2,
   "id": "97f76ad0",
   "metadata": {
    "ExecuteTime": {
     "end_time": "2023-02-11T14:44:53.606541Z",
     "start_time": "2023-02-11T14:39:28.690469Z"
    },
    "hidden": true
   },
   "outputs": [
    {
     "data": {
      "text/html": [
       "\n",
       "        <iframe\n",
       "            width=\"100%\"\n",
       "            height=\"650\"\n",
       "            src=\"http://127.0.0.1:8050/\"\n",
       "            frameborder=\"0\"\n",
       "            allowfullscreen\n",
       "            \n",
       "        ></iframe>\n",
       "        "
      ],
      "text/plain": [
       "<IPython.lib.display.IFrame at 0x1d5a2392fd0>"
      ]
     },
     "metadata": {},
     "output_type": "display_data"
    }
   ],
   "source": [
    "import dash\n",
    "from dash import html\n",
    "from dash import dcc\n",
    "\n",
    "app = dash.Dash()\n",
    "app.layout = html.Div([\n",
    "    \n",
    "    html.H2(id = 'H2_Slider',\n",
    "           children = ['Slider Example']),\n",
    "    \n",
    "    dcc.Slider(min = -5, # 슬라이더 최소 값\n",
    "              max = 10, # 슬라이더 최대 값\n",
    "              step = 1, # 한칸 값 크기\n",
    "              marks = {i: i for i in range(-5,11)}, #  슬라이더 밑 숫자 표기를 해준다. \n",
    "              value = 3),\n",
    "    html.Br(),\n",
    "    \n",
    "    html.H2(id = 'H2_RangeSlider',\n",
    "           children = ['RangeSlider Example']),\n",
    "    \n",
    "    dcc.RangeSlider(id = 'rangeSlider',\n",
    "                   min=-5,\n",
    "                   max = 10,\n",
    "                   step = 1,\n",
    "                   value = [-2, 4],\n",
    "                   marks = {i: i for i in range(-5,10)})\n",
    "    \n",
    "])\n",
    "\n",
    "if __name__=='__main__':\n",
    "    app.run_server()"
   ]
  },
  {
   "cell_type": "markdown",
   "id": "27c23838",
   "metadata": {
    "ExecuteTime": {
     "end_time": "2023-02-11T14:35:03.872300Z",
     "start_time": "2023-02-11T14:35:03.863220Z"
    },
    "heading_collapsed": true
   },
   "source": [
    "## Input"
   ]
  },
  {
   "cell_type": "code",
   "execution_count": 4,
   "id": "cdec7023",
   "metadata": {
    "ExecuteTime": {
     "end_time": "2023-02-11T14:56:33.277026Z",
     "start_time": "2023-02-11T14:54:26.234803Z"
    },
    "hidden": true
   },
   "outputs": [
    {
     "data": {
      "text/html": [
       "\n",
       "        <iframe\n",
       "            width=\"100%\"\n",
       "            height=\"650\"\n",
       "            src=\"http://127.0.0.1:8050/\"\n",
       "            frameborder=\"0\"\n",
       "            allowfullscreen\n",
       "            \n",
       "        ></iframe>\n",
       "        "
      ],
      "text/plain": [
       "<IPython.lib.display.IFrame at 0x1d5a01ab7c0>"
      ]
     },
     "metadata": {},
     "output_type": "display_data"
    }
   ],
   "source": [
    "import dash\n",
    "from dash import html\n",
    "from dash import dcc\n",
    "\n",
    "app = dash.Dash()\n",
    "app.layout = html.Div([\n",
    "    \n",
    "    html.H3(id = 'H3',\n",
    "           children = ['Input Example']),\n",
    "    \n",
    "    dcc.Input(id = 'input1',\n",
    "             value = '시작날짜'),\n",
    "    dcc.Input(id = 'input2',\n",
    "             value = '끝날짜'),\n",
    "\n",
    "])\n",
    "\n",
    "if __name__=='__main__':\n",
    "    app.run_server()\n"
   ]
  },
  {
   "cell_type": "markdown",
   "id": "89436136",
   "metadata": {
    "heading_collapsed": true
   },
   "source": [
    "## RadioItems & CheckList"
   ]
  },
  {
   "cell_type": "code",
   "execution_count": 5,
   "id": "06697c78",
   "metadata": {
    "ExecuteTime": {
     "end_time": "2023-02-11T15:03:35.795150Z",
     "start_time": "2023-02-11T15:02:36.774405Z"
    },
    "hidden": true
   },
   "outputs": [
    {
     "data": {
      "text/html": [
       "\n",
       "        <iframe\n",
       "            width=\"100%\"\n",
       "            height=\"650\"\n",
       "            src=\"http://127.0.0.1:8050/\"\n",
       "            frameborder=\"0\"\n",
       "            allowfullscreen\n",
       "            \n",
       "        ></iframe>\n",
       "        "
      ],
      "text/plain": [
       "<IPython.lib.display.IFrame at 0x1d5a23a3880>"
      ]
     },
     "metadata": {},
     "output_type": "display_data"
    }
   ],
   "source": [
    "import dash\n",
    "from dash import html\n",
    "from dash import dcc\n",
    "\n",
    "options = [\n",
    "    {'label':'딸기', 'value':3000},\n",
    "    {'label':'수박', 'value':10000},\n",
    "    {'label':'바나나', 'value':2000},\n",
    "    {'label':'키위', 'value':1000},\n",
    "    {'label':'사과', 'value':1500},\n",
    "            ]\n",
    "\n",
    "app = dash.Dash()\n",
    "app.layout = html.Div([\n",
    "    \n",
    "    html.H3(id = 'H3_1',\n",
    "           children = ['RadioItems Example']),\n",
    "    \n",
    "    dcc.RadioItems(id = 'radioItems',\n",
    "                  options = options),\n",
    "    \n",
    "    html.Br(),\n",
    "    \n",
    "    html.H3(id = 'H3_2',\n",
    "           children = ['CheckList Example']),\n",
    "    \n",
    "    dcc.Checklist(id = 'CheckList',\n",
    "                 options = options)\n",
    "])\n",
    "\n",
    "if __name__=='__main__':\n",
    "    app.run_server()"
   ]
  },
  {
   "cell_type": "markdown",
   "id": "848356b3",
   "metadata": {},
   "source": [
    "## DatePickerRange"
   ]
  },
  {
   "cell_type": "code",
   "execution_count": 1,
   "id": "2e9b56a4",
   "metadata": {
    "ExecuteTime": {
     "end_time": "2023-02-11T15:18:25.007726Z",
     "start_time": "2023-02-11T15:17:03.999802Z"
    }
   },
   "outputs": [
    {
     "data": {
      "text/html": [
       "\n",
       "        <iframe\n",
       "            width=\"100%\"\n",
       "            height=\"650\"\n",
       "            src=\"http://127.0.0.1:8050/\"\n",
       "            frameborder=\"0\"\n",
       "            allowfullscreen\n",
       "            \n",
       "        ></iframe>\n",
       "        "
      ],
      "text/plain": [
       "<IPython.lib.display.IFrame at 0x186eae38eb0>"
      ]
     },
     "metadata": {},
     "output_type": "display_data"
    }
   ],
   "source": [
    "import dash\n",
    "from dash import html\n",
    "from dash import dcc\n",
    "from datetime import datetime\n",
    "\n",
    "app = dash.Dash()\n",
    "app.layout = html.Div([\n",
    "    \n",
    "    html.H3(id = 'H3',\n",
    "           children = ['DatePickerRange Example']),\n",
    "    \n",
    "    dcc.DatePickerRange(id = 'datepickerange',\n",
    "                       start_date = datetime(2022,1,1),\n",
    "                       end_date = datetime(2022,12,31),\n",
    "                        min_date_allowed = datetime(2022,1,1), # 최소 선택지 \n",
    "                        max_date_allowed = datetime(2023,2,1) # 최대 선택지\n",
    "                       )\n",
    "])\n",
    "\n",
    "if __name__=='__main__':\n",
    "    app.run_server()\n"
   ]
  },
  {
   "cell_type": "code",
   "execution_count": null,
   "id": "d59717af",
   "metadata": {
    "ExecuteTime": {
     "end_time": "2023-02-11T15:14:30.701803Z",
     "start_time": "2023-02-11T15:14:30.688529Z"
    }
   },
   "outputs": [],
   "source": []
  },
  {
   "cell_type": "code",
   "execution_count": null,
   "id": "a5e47c8f",
   "metadata": {},
   "outputs": [],
   "source": []
  }
 ],
 "metadata": {
  "hide_input": false,
  "kernelspec": {
   "display_name": "Python 3 (ipykernel)",
   "language": "python",
   "name": "python3"
  },
  "language_info": {
   "codemirror_mode": {
    "name": "ipython",
    "version": 3
   },
   "file_extension": ".py",
   "mimetype": "text/x-python",
   "name": "python",
   "nbconvert_exporter": "python",
   "pygments_lexer": "ipython3",
   "version": "3.9.13"
  },
  "toc": {
   "base_numbering": 1,
   "nav_menu": {},
   "number_sections": true,
   "sideBar": true,
   "skip_h1_title": false,
   "title_cell": "Table of Contents",
   "title_sidebar": "Contents",
   "toc_cell": false,
   "toc_position": {
    "height": "calc(100% - 180px)",
    "left": "10px",
    "top": "150px",
    "width": "291.712px"
   },
   "toc_section_display": true,
   "toc_window_display": true
  },
  "varInspector": {
   "cols": {
    "lenName": 16,
    "lenType": 16,
    "lenVar": 40
   },
   "kernels_config": {
    "python": {
     "delete_cmd_postfix": "",
     "delete_cmd_prefix": "del ",
     "library": "var_list.py",
     "varRefreshCmd": "print(var_dic_list())"
    },
    "r": {
     "delete_cmd_postfix": ") ",
     "delete_cmd_prefix": "rm(",
     "library": "var_list.r",
     "varRefreshCmd": "cat(var_dic_list()) "
    }
   },
   "types_to_exclude": [
    "module",
    "function",
    "builtin_function_or_method",
    "instance",
    "_Feature"
   ],
   "window_display": false
  }
 },
 "nbformat": 4,
 "nbformat_minor": 5
}
