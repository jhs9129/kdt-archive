{
 "cells": [
  {
   "cell_type": "markdown",
   "id": "d9d1332b",
   "metadata": {
    "id": "d9d1332b"
   },
   "source": [
    "## Import"
   ]
  },
  {
   "cell_type": "code",
   "execution_count": 1,
   "id": "e9a1702c",
   "metadata": {
    "id": "e9a1702c"
   },
   "outputs": [],
   "source": [
    "from sklearn.mixture import GaussianMixture\n",
    "import matplotlib.pyplot as plt\n",
    "import seaborn as sns"
   ]
  },
  {
   "cell_type": "code",
   "execution_count": 2,
   "id": "fd7f6d56",
   "metadata": {
    "id": "fd7f6d56"
   },
   "outputs": [],
   "source": [
    "from sklearn.datasets import load_iris\n",
    "from sklearn.cluster import KMeans\n",
    "\n",
    "import matplotlib.pyplot as plt\n",
    "import numpy as np\n",
    "import pandas as pd"
   ]
  },
  {
   "cell_type": "markdown",
   "id": "2f2a1576",
   "metadata": {
    "id": "2f2a1576"
   },
   "source": [
    "## 초등 학생별 수준 군집화"
   ]
  },
  {
   "cell_type": "code",
   "execution_count": 3,
   "id": "j2muK0n06j9c",
   "metadata": {
    "id": "j2muK0n06j9c"
   },
   "outputs": [
    {
     "name": "stdout",
     "output_type": "stream",
     "text": [
      "[WinError 3] 지정된 경로를 찾을 수 없습니다: '/content/drive/MyDrive/강의자료/머신러닝기초/4일차_차원축소와군집화'\n",
      "c:\\Users\\user\\Documents\\study\\8m\\5주차(박나연 강사님)머신러닝 이해와 실습\\31일_목요일\n"
     ]
    }
   ],
   "source": [
    "%cd /content/drive/MyDrive/강의자료/머신러닝기초/4일차_차원축소와군집화"
   ]
  },
  {
   "cell_type": "code",
   "execution_count": 4,
   "id": "79036d97",
   "metadata": {
    "id": "79036d97",
    "scrolled": true
   },
   "outputs": [],
   "source": [
    "middle1_score_df = pd.read_csv('./datasets/중1_밀크T중학_AI진단평가_개인별전과목점수.csv',index_col=0)"
   ]
  },
  {
   "cell_type": "code",
   "execution_count": 5,
   "id": "f4KYfs7iBcv-",
   "metadata": {
    "colab": {
     "base_uri": "https://localhost:8080/",
     "height": 423
    },
    "executionInfo": {
     "elapsed": 6,
     "status": "ok",
     "timestamp": 1678501986486,
     "user": {
      "displayName": "박나연",
      "userId": "09406148759772297697"
     },
     "user_tz": -540
    },
    "id": "f4KYfs7iBcv-",
    "outputId": "9b218cd7-757d-481a-d1cc-9c65da76513a"
   },
   "outputs": [
    {
     "data": {
      "text/html": [
       "<div>\n",
       "<style scoped>\n",
       "    .dataframe tbody tr th:only-of-type {\n",
       "        vertical-align: middle;\n",
       "    }\n",
       "\n",
       "    .dataframe tbody tr th {\n",
       "        vertical-align: top;\n",
       "    }\n",
       "\n",
       "    .dataframe thead th {\n",
       "        text-align: right;\n",
       "    }\n",
       "</style>\n",
       "<table border=\"1\" class=\"dataframe\">\n",
       "  <thead>\n",
       "    <tr style=\"text-align: right;\">\n",
       "      <th></th>\n",
       "      <th>국어</th>\n",
       "      <th>영어</th>\n",
       "      <th>수학</th>\n",
       "      <th>과학</th>\n",
       "      <th>사회</th>\n",
       "      <th>역사</th>\n",
       "    </tr>\n",
       "  </thead>\n",
       "  <tbody>\n",
       "    <tr>\n",
       "      <th>3</th>\n",
       "      <td>68.0</td>\n",
       "      <td>86.0</td>\n",
       "      <td>57.0</td>\n",
       "      <td>15.0</td>\n",
       "      <td>53.0</td>\n",
       "      <td>45.0</td>\n",
       "    </tr>\n",
       "    <tr>\n",
       "      <th>10</th>\n",
       "      <td>79.0</td>\n",
       "      <td>93.0</td>\n",
       "      <td>46.0</td>\n",
       "      <td>30.0</td>\n",
       "      <td>45.0</td>\n",
       "      <td>15.0</td>\n",
       "    </tr>\n",
       "    <tr>\n",
       "      <th>13</th>\n",
       "      <td>93.0</td>\n",
       "      <td>100.0</td>\n",
       "      <td>48.0</td>\n",
       "      <td>56.0</td>\n",
       "      <td>63.0</td>\n",
       "      <td>100.0</td>\n",
       "    </tr>\n",
       "    <tr>\n",
       "      <th>23</th>\n",
       "      <td>100.0</td>\n",
       "      <td>100.0</td>\n",
       "      <td>88.0</td>\n",
       "      <td>61.0</td>\n",
       "      <td>90.0</td>\n",
       "      <td>33.0</td>\n",
       "    </tr>\n",
       "    <tr>\n",
       "      <th>32</th>\n",
       "      <td>93.0</td>\n",
       "      <td>100.0</td>\n",
       "      <td>65.0</td>\n",
       "      <td>53.0</td>\n",
       "      <td>45.0</td>\n",
       "      <td>90.0</td>\n",
       "    </tr>\n",
       "    <tr>\n",
       "      <th>...</th>\n",
       "      <td>...</td>\n",
       "      <td>...</td>\n",
       "      <td>...</td>\n",
       "      <td>...</td>\n",
       "      <td>...</td>\n",
       "      <td>...</td>\n",
       "    </tr>\n",
       "    <tr>\n",
       "      <th>1888</th>\n",
       "      <td>86.0</td>\n",
       "      <td>68.0</td>\n",
       "      <td>94.0</td>\n",
       "      <td>90.0</td>\n",
       "      <td>100.0</td>\n",
       "      <td>79.0</td>\n",
       "    </tr>\n",
       "    <tr>\n",
       "      <th>2014</th>\n",
       "      <td>65.0</td>\n",
       "      <td>58.0</td>\n",
       "      <td>63.0</td>\n",
       "      <td>0.0</td>\n",
       "      <td>0.0</td>\n",
       "      <td>0.0</td>\n",
       "    </tr>\n",
       "    <tr>\n",
       "      <th>2349</th>\n",
       "      <td>54.0</td>\n",
       "      <td>79.0</td>\n",
       "      <td>51.0</td>\n",
       "      <td>90.0</td>\n",
       "      <td>90.0</td>\n",
       "      <td>71.0</td>\n",
       "    </tr>\n",
       "    <tr>\n",
       "      <th>3165</th>\n",
       "      <td>47.0</td>\n",
       "      <td>93.0</td>\n",
       "      <td>55.0</td>\n",
       "      <td>30.0</td>\n",
       "      <td>100.0</td>\n",
       "      <td>71.0</td>\n",
       "    </tr>\n",
       "    <tr>\n",
       "      <th>3472</th>\n",
       "      <td>86.0</td>\n",
       "      <td>72.0</td>\n",
       "      <td>66.0</td>\n",
       "      <td>90.0</td>\n",
       "      <td>61.0</td>\n",
       "      <td>56.0</td>\n",
       "    </tr>\n",
       "  </tbody>\n",
       "</table>\n",
       "<p>351 rows × 6 columns</p>\n",
       "</div>"
      ],
      "text/plain": [
       "         국어     영어    수학    과학     사회     역사\n",
       "3      68.0   86.0  57.0  15.0   53.0   45.0\n",
       "10     79.0   93.0  46.0  30.0   45.0   15.0\n",
       "13     93.0  100.0  48.0  56.0   63.0  100.0\n",
       "23    100.0  100.0  88.0  61.0   90.0   33.0\n",
       "32     93.0  100.0  65.0  53.0   45.0   90.0\n",
       "...     ...    ...   ...   ...    ...    ...\n",
       "1888   86.0   68.0  94.0  90.0  100.0   79.0\n",
       "2014   65.0   58.0  63.0   0.0    0.0    0.0\n",
       "2349   54.0   79.0  51.0  90.0   90.0   71.0\n",
       "3165   47.0   93.0  55.0  30.0  100.0   71.0\n",
       "3472   86.0   72.0  66.0  90.0   61.0   56.0\n",
       "\n",
       "[351 rows x 6 columns]"
      ]
     },
     "execution_count": 5,
     "metadata": {},
     "output_type": "execute_result"
    }
   ],
   "source": [
    "middle1_score_df[['국어','영어','수학','과학','사회','역사']].dropna() # 결측치 제거"
   ]
  },
  {
   "cell_type": "code",
   "execution_count": 6,
   "id": "xwhwYxP-GLqC",
   "metadata": {
    "id": "xwhwYxP-GLqC"
   },
   "outputs": [],
   "source": [
    "input_data = middle1_score_df[['국어','영어','수학','과학','사회','역사']].dropna()"
   ]
  },
  {
   "cell_type": "code",
   "execution_count": 7,
   "id": "7e5a0276",
   "metadata": {
    "id": "7e5a0276",
    "scrolled": true
   },
   "outputs": [],
   "source": [
    "gmm = GaussianMixture(n_components=3, random_state = 42)\n",
    "gmm_labels = gmm.fit_predict(input_data)\n",
    "\n",
    "input_data['gmm_cluster'] = gmm_labels"
   ]
  },
  {
   "cell_type": "code",
   "execution_count": 8,
   "id": "r4VTu5w_giz9",
   "metadata": {
    "colab": {
     "base_uri": "https://localhost:8080/",
     "height": 423
    },
    "executionInfo": {
     "elapsed": 4,
     "status": "ok",
     "timestamp": 1678502050028,
     "user": {
      "displayName": "박나연",
      "userId": "09406148759772297697"
     },
     "user_tz": -540
    },
    "id": "r4VTu5w_giz9",
    "outputId": "895454f7-e45d-4257-df42-3b810706a3cd"
   },
   "outputs": [
    {
     "data": {
      "text/html": [
       "<div>\n",
       "<style scoped>\n",
       "    .dataframe tbody tr th:only-of-type {\n",
       "        vertical-align: middle;\n",
       "    }\n",
       "\n",
       "    .dataframe tbody tr th {\n",
       "        vertical-align: top;\n",
       "    }\n",
       "\n",
       "    .dataframe thead th {\n",
       "        text-align: right;\n",
       "    }\n",
       "</style>\n",
       "<table border=\"1\" class=\"dataframe\">\n",
       "  <thead>\n",
       "    <tr style=\"text-align: right;\">\n",
       "      <th></th>\n",
       "      <th>국어</th>\n",
       "      <th>영어</th>\n",
       "      <th>수학</th>\n",
       "      <th>과학</th>\n",
       "      <th>사회</th>\n",
       "      <th>역사</th>\n",
       "      <th>gmm_cluster</th>\n",
       "    </tr>\n",
       "  </thead>\n",
       "  <tbody>\n",
       "    <tr>\n",
       "      <th>3</th>\n",
       "      <td>68.0</td>\n",
       "      <td>86.0</td>\n",
       "      <td>57.0</td>\n",
       "      <td>15.0</td>\n",
       "      <td>53.0</td>\n",
       "      <td>45.0</td>\n",
       "      <td>0</td>\n",
       "    </tr>\n",
       "    <tr>\n",
       "      <th>10</th>\n",
       "      <td>79.0</td>\n",
       "      <td>93.0</td>\n",
       "      <td>46.0</td>\n",
       "      <td>30.0</td>\n",
       "      <td>45.0</td>\n",
       "      <td>15.0</td>\n",
       "      <td>0</td>\n",
       "    </tr>\n",
       "    <tr>\n",
       "      <th>13</th>\n",
       "      <td>93.0</td>\n",
       "      <td>100.0</td>\n",
       "      <td>48.0</td>\n",
       "      <td>56.0</td>\n",
       "      <td>63.0</td>\n",
       "      <td>100.0</td>\n",
       "      <td>0</td>\n",
       "    </tr>\n",
       "    <tr>\n",
       "      <th>23</th>\n",
       "      <td>100.0</td>\n",
       "      <td>100.0</td>\n",
       "      <td>88.0</td>\n",
       "      <td>61.0</td>\n",
       "      <td>90.0</td>\n",
       "      <td>33.0</td>\n",
       "      <td>1</td>\n",
       "    </tr>\n",
       "    <tr>\n",
       "      <th>32</th>\n",
       "      <td>93.0</td>\n",
       "      <td>100.0</td>\n",
       "      <td>65.0</td>\n",
       "      <td>53.0</td>\n",
       "      <td>45.0</td>\n",
       "      <td>90.0</td>\n",
       "      <td>0</td>\n",
       "    </tr>\n",
       "    <tr>\n",
       "      <th>...</th>\n",
       "      <td>...</td>\n",
       "      <td>...</td>\n",
       "      <td>...</td>\n",
       "      <td>...</td>\n",
       "      <td>...</td>\n",
       "      <td>...</td>\n",
       "      <td>...</td>\n",
       "    </tr>\n",
       "    <tr>\n",
       "      <th>1888</th>\n",
       "      <td>86.0</td>\n",
       "      <td>68.0</td>\n",
       "      <td>94.0</td>\n",
       "      <td>90.0</td>\n",
       "      <td>100.0</td>\n",
       "      <td>79.0</td>\n",
       "      <td>1</td>\n",
       "    </tr>\n",
       "    <tr>\n",
       "      <th>2014</th>\n",
       "      <td>65.0</td>\n",
       "      <td>58.0</td>\n",
       "      <td>63.0</td>\n",
       "      <td>0.0</td>\n",
       "      <td>0.0</td>\n",
       "      <td>0.0</td>\n",
       "      <td>2</td>\n",
       "    </tr>\n",
       "    <tr>\n",
       "      <th>2349</th>\n",
       "      <td>54.0</td>\n",
       "      <td>79.0</td>\n",
       "      <td>51.0</td>\n",
       "      <td>90.0</td>\n",
       "      <td>90.0</td>\n",
       "      <td>71.0</td>\n",
       "      <td>0</td>\n",
       "    </tr>\n",
       "    <tr>\n",
       "      <th>3165</th>\n",
       "      <td>47.0</td>\n",
       "      <td>93.0</td>\n",
       "      <td>55.0</td>\n",
       "      <td>30.0</td>\n",
       "      <td>100.0</td>\n",
       "      <td>71.0</td>\n",
       "      <td>0</td>\n",
       "    </tr>\n",
       "    <tr>\n",
       "      <th>3472</th>\n",
       "      <td>86.0</td>\n",
       "      <td>72.0</td>\n",
       "      <td>66.0</td>\n",
       "      <td>90.0</td>\n",
       "      <td>61.0</td>\n",
       "      <td>56.0</td>\n",
       "      <td>0</td>\n",
       "    </tr>\n",
       "  </tbody>\n",
       "</table>\n",
       "<p>351 rows × 7 columns</p>\n",
       "</div>"
      ],
      "text/plain": [
       "         국어     영어    수학    과학     사회     역사  gmm_cluster\n",
       "3      68.0   86.0  57.0  15.0   53.0   45.0            0\n",
       "10     79.0   93.0  46.0  30.0   45.0   15.0            0\n",
       "13     93.0  100.0  48.0  56.0   63.0  100.0            0\n",
       "23    100.0  100.0  88.0  61.0   90.0   33.0            1\n",
       "32     93.0  100.0  65.0  53.0   45.0   90.0            0\n",
       "...     ...    ...   ...   ...    ...    ...          ...\n",
       "1888   86.0   68.0  94.0  90.0  100.0   79.0            1\n",
       "2014   65.0   58.0  63.0   0.0    0.0    0.0            2\n",
       "2349   54.0   79.0  51.0  90.0   90.0   71.0            0\n",
       "3165   47.0   93.0  55.0  30.0  100.0   71.0            0\n",
       "3472   86.0   72.0  66.0  90.0   61.0   56.0            0\n",
       "\n",
       "[351 rows x 7 columns]"
      ]
     },
     "execution_count": 8,
     "metadata": {},
     "output_type": "execute_result"
    }
   ],
   "source": [
    "input_data"
   ]
  },
  {
   "cell_type": "markdown",
   "id": "2W8mGLL_IxwY",
   "metadata": {
    "id": "2W8mGLL_IxwY"
   },
   "source": [
    "### 결과 과목별 시각화"
   ]
  },
  {
   "cell_type": "code",
   "execution_count": 9,
   "id": "gFjb3Z5oGoMu",
   "metadata": {
    "id": "gFjb3Z5oGoMu"
   },
   "outputs": [],
   "source": [
    "def ploting_score(df):\n",
    "    f, ax = plt.subplots(2,3)\n",
    "    f.set_size_inches((25,10))\n",
    "\n",
    "    plt.subplots_adjust(wspace = 0.3, hspace = 0.3)\n",
    "\n",
    "    ############ 1 ###############\n",
    "\n",
    "    sns.histplot(df[df['gmm_cluster'] == 0]['국어'].tolist(),\n",
    "                color=\"tomato\", ax = ax[0,0])\n",
    "    sns.histplot(df[df['gmm_cluster'] == 1]['국어'].tolist(),\n",
    "                color=\"mediumorchid\", ax = ax[0,0])\n",
    "    sns.histplot(df[df['gmm_cluster'] == 2]['국어'].tolist(),\n",
    "                color=\"gold\", ax = ax[0,0])\n",
    "    ax[0,0].set_title('Korean')\n",
    "    ax[0,0].set_xlim([-10,110])\n",
    "\n",
    "    ############ 2 ###############\n",
    "\n",
    "    sns.histplot(df[df['gmm_cluster'] == 0]['수학'].tolist(),\n",
    "                color=\"tomato\", ax = ax[0,1])\n",
    "    sns.histplot(df[df['gmm_cluster'] == 1]['수학'].tolist(),\n",
    "                color=\"mediumorchid\", ax = ax[0,1])\n",
    "    sns.histplot(df[df['gmm_cluster'] == 2]['수학'].tolist(),\n",
    "                color=\"gold\", ax = ax[0,1])\n",
    "    ax[0,1].set_title('Math')\n",
    "    ax[0,1].set_xlim([-10,110])\n",
    "\n",
    "\n",
    "    ############ 3 ###############\n",
    "    sns.histplot(df[df['gmm_cluster'] == 0]['영어'].tolist(),\n",
    "                color=\"tomato\",ax = ax[0,2])\n",
    "    sns.histplot(df[df['gmm_cluster'] == 1]['영어'].tolist(),\n",
    "                color=\"mediumorchid\", ax = ax[0,2])\n",
    "    sns.histplot(df[df['gmm_cluster'] == 2]['영어'].tolist(),\n",
    "                color=\"gold\", ax = ax[0,2])\n",
    "    ax[0,2].set_title('English')\n",
    "    ax[0,2].set_xlim([-10,110])\n",
    "\n",
    "    ############ 4 ###############\n",
    "    sns.histplot(df[df['gmm_cluster'] == 0]['사회'].tolist(),\n",
    "                color=\"tomato\", ax = ax[1,0])\n",
    "    sns.histplot(df[df['gmm_cluster'] == 1]['사회'].tolist(),\n",
    "                color=\"mediumorchid\", ax = ax[1,0])\n",
    "    sns.histplot(df[df['gmm_cluster'] == 2]['사회'].tolist(),\n",
    "                color=\"gold\", ax = ax[1,0])\n",
    "    ax[1,0].set_title('Social')\n",
    "    ax[1,0].set_xlim([-10,110])\n",
    "\n",
    "    ############ 5 ###############\n",
    "    sns.histplot(df[df['gmm_cluster'] == 0]['과학'].tolist(),\n",
    "                color=\"tomato\", ax = ax[1,1])\n",
    "    sns.histplot(df[df['gmm_cluster'] == 1]['과학'].tolist(),\n",
    "                color=\"mediumorchid\", ax = ax[1,1])\n",
    "    sns.histplot(df[df['gmm_cluster'] == 2]['과학'].tolist(),\n",
    "                color=\"gold\", ax = ax[1,1])\n",
    "    ax[1,1].set_title('Science')\n",
    "    ax[1,1].set_xlim([-10,110])\n",
    "\n",
    "    ############ 6 ###############\n",
    "    sns.histplot(df[df['gmm_cluster'] == 0]['역사'].tolist(),\n",
    "                color=\"tomato\", ax = ax[1,2])\n",
    "    sns.histplot(df[df['gmm_cluster'] == 1]['역사'].tolist(),\n",
    "                color=\"mediumorchid\", ax = ax[1,2])\n",
    "    sns.histplot(df[df['gmm_cluster'] == 2]['역사'].tolist(),\n",
    "                color=\"gold\", ax = ax[1,2])\n",
    "    ax[1,2].set_title('History')\n",
    "    ax[1,2].set_xlim([-10,110])\n",
    "\n",
    "    plt.xlim(0,100)\n",
    "    plt.show()"
   ]
  },
  {
   "cell_type": "code",
   "execution_count": 10,
   "id": "3Dpf1TzVGoIX",
   "metadata": {
    "colab": {
     "base_uri": "https://localhost:8080/",
     "height": 593
    },
    "executionInfo": {
     "elapsed": 1871,
     "status": "ok",
     "timestamp": 1678502682012,
     "user": {
      "displayName": "박나연",
      "userId": "09406148759772297697"
     },
     "user_tz": -540
    },
    "id": "3Dpf1TzVGoIX",
    "outputId": "2fb106d7-257d-4f55-988c-f1b75e165367"
   },
   "outputs": [
    {
     "data": {
      "image/png": "[encoded data removed]",
      "text/plain": [
       "<Figure size 2500x1000 with 6 Axes>"
      ]
     },
     "metadata": {},
     "output_type": "display_data"
    }
   ],
   "source": [
    "ploting_score(input_data)"
   ]
  },
  {
   "cell_type": "code",
   "execution_count": null,
   "id": "eQ2iOVxosP7f",
   "metadata": {
    "id": "eQ2iOVxosP7f"
   },
   "outputs": [],
   "source": []
  },
  {
   "attachments": {},
   "cell_type": "markdown",
   "id": "hQRXkG3Bt3x_",
   "metadata": {
    "id": "hQRXkG3Bt3x_"
   },
   "source": [
    "#### 1-1. PCA 진행하지 않고, GMM 적용해보기(결과만 시각화)"
   ]
  },
  {
   "cell_type": "code",
   "execution_count": 11,
   "id": "urTzX7vFt9ix",
   "metadata": {
    "id": "urTzX7vFt9ix"
   },
   "outputs": [],
   "source": [
    "middle1_score_df = pd.read_csv('./datasets/중1_밀크T중학_AI진단평가_개인별전과목점수.csv',index_col=0)"
   ]
  },
  {
   "cell_type": "code",
   "execution_count": 12,
   "id": "1035b3a8",
   "metadata": {},
   "outputs": [],
   "source": [
    "df = middle1_score_df[['국어','영어','수학','과학','사회','역사']].dropna()"
   ]
  },
  {
   "cell_type": "code",
   "execution_count": 13,
   "id": "f8f3296e",
   "metadata": {},
   "outputs": [
    {
     "data": {
      "text/html": [
       "<div>\n",
       "<style scoped>\n",
       "    .dataframe tbody tr th:only-of-type {\n",
       "        vertical-align: middle;\n",
       "    }\n",
       "\n",
       "    .dataframe tbody tr th {\n",
       "        vertical-align: top;\n",
       "    }\n",
       "\n",
       "    .dataframe thead th {\n",
       "        text-align: right;\n",
       "    }\n",
       "</style>\n",
       "<table border=\"1\" class=\"dataframe\">\n",
       "  <thead>\n",
       "    <tr style=\"text-align: right;\">\n",
       "      <th></th>\n",
       "      <th>국어</th>\n",
       "      <th>영어</th>\n",
       "      <th>수학</th>\n",
       "      <th>과학</th>\n",
       "      <th>사회</th>\n",
       "      <th>역사</th>\n",
       "    </tr>\n",
       "  </thead>\n",
       "  <tbody>\n",
       "    <tr>\n",
       "      <th>3</th>\n",
       "      <td>68.0</td>\n",
       "      <td>86.0</td>\n",
       "      <td>57.0</td>\n",
       "      <td>15.0</td>\n",
       "      <td>53.0</td>\n",
       "      <td>45.0</td>\n",
       "    </tr>\n",
       "    <tr>\n",
       "      <th>10</th>\n",
       "      <td>79.0</td>\n",
       "      <td>93.0</td>\n",
       "      <td>46.0</td>\n",
       "      <td>30.0</td>\n",
       "      <td>45.0</td>\n",
       "      <td>15.0</td>\n",
       "    </tr>\n",
       "    <tr>\n",
       "      <th>13</th>\n",
       "      <td>93.0</td>\n",
       "      <td>100.0</td>\n",
       "      <td>48.0</td>\n",
       "      <td>56.0</td>\n",
       "      <td>63.0</td>\n",
       "      <td>100.0</td>\n",
       "    </tr>\n",
       "    <tr>\n",
       "      <th>23</th>\n",
       "      <td>100.0</td>\n",
       "      <td>100.0</td>\n",
       "      <td>88.0</td>\n",
       "      <td>61.0</td>\n",
       "      <td>90.0</td>\n",
       "      <td>33.0</td>\n",
       "    </tr>\n",
       "    <tr>\n",
       "      <th>32</th>\n",
       "      <td>93.0</td>\n",
       "      <td>100.0</td>\n",
       "      <td>65.0</td>\n",
       "      <td>53.0</td>\n",
       "      <td>45.0</td>\n",
       "      <td>90.0</td>\n",
       "    </tr>\n",
       "    <tr>\n",
       "      <th>...</th>\n",
       "      <td>...</td>\n",
       "      <td>...</td>\n",
       "      <td>...</td>\n",
       "      <td>...</td>\n",
       "      <td>...</td>\n",
       "      <td>...</td>\n",
       "    </tr>\n",
       "    <tr>\n",
       "      <th>1888</th>\n",
       "      <td>86.0</td>\n",
       "      <td>68.0</td>\n",
       "      <td>94.0</td>\n",
       "      <td>90.0</td>\n",
       "      <td>100.0</td>\n",
       "      <td>79.0</td>\n",
       "    </tr>\n",
       "    <tr>\n",
       "      <th>2014</th>\n",
       "      <td>65.0</td>\n",
       "      <td>58.0</td>\n",
       "      <td>63.0</td>\n",
       "      <td>0.0</td>\n",
       "      <td>0.0</td>\n",
       "      <td>0.0</td>\n",
       "    </tr>\n",
       "    <tr>\n",
       "      <th>2349</th>\n",
       "      <td>54.0</td>\n",
       "      <td>79.0</td>\n",
       "      <td>51.0</td>\n",
       "      <td>90.0</td>\n",
       "      <td>90.0</td>\n",
       "      <td>71.0</td>\n",
       "    </tr>\n",
       "    <tr>\n",
       "      <th>3165</th>\n",
       "      <td>47.0</td>\n",
       "      <td>93.0</td>\n",
       "      <td>55.0</td>\n",
       "      <td>30.0</td>\n",
       "      <td>100.0</td>\n",
       "      <td>71.0</td>\n",
       "    </tr>\n",
       "    <tr>\n",
       "      <th>3472</th>\n",
       "      <td>86.0</td>\n",
       "      <td>72.0</td>\n",
       "      <td>66.0</td>\n",
       "      <td>90.0</td>\n",
       "      <td>61.0</td>\n",
       "      <td>56.0</td>\n",
       "    </tr>\n",
       "  </tbody>\n",
       "</table>\n",
       "<p>351 rows × 6 columns</p>\n",
       "</div>"
      ],
      "text/plain": [
       "         국어     영어    수학    과학     사회     역사\n",
       "3      68.0   86.0  57.0  15.0   53.0   45.0\n",
       "10     79.0   93.0  46.0  30.0   45.0   15.0\n",
       "13     93.0  100.0  48.0  56.0   63.0  100.0\n",
       "23    100.0  100.0  88.0  61.0   90.0   33.0\n",
       "32     93.0  100.0  65.0  53.0   45.0   90.0\n",
       "...     ...    ...   ...   ...    ...    ...\n",
       "1888   86.0   68.0  94.0  90.0  100.0   79.0\n",
       "2014   65.0   58.0  63.0   0.0    0.0    0.0\n",
       "2349   54.0   79.0  51.0  90.0   90.0   71.0\n",
       "3165   47.0   93.0  55.0  30.0  100.0   71.0\n",
       "3472   86.0   72.0  66.0  90.0   61.0   56.0\n",
       "\n",
       "[351 rows x 6 columns]"
      ]
     },
     "execution_count": 13,
     "metadata": {},
     "output_type": "execute_result"
    }
   ],
   "source": [
    "df"
   ]
  },
  {
   "cell_type": "code",
   "execution_count": 14,
   "id": "7b3d4c09",
   "metadata": {},
   "outputs": [],
   "source": [
    "# gmm\n",
    "gmm = GaussianMixture(n_components=3, random_state = 42)\n",
    "gmm_labels = gmm.fit_predict(df)\n",
    "\n",
    "df['gmm_cluster'] = gmm_labels"
   ]
  },
  {
   "cell_type": "code",
   "execution_count": 15,
   "id": "8bca5307",
   "metadata": {},
   "outputs": [
    {
     "data": {
      "text/html": [
       "<div>\n",
       "<style scoped>\n",
       "    .dataframe tbody tr th:only-of-type {\n",
       "        vertical-align: middle;\n",
       "    }\n",
       "\n",
       "    .dataframe tbody tr th {\n",
       "        vertical-align: top;\n",
       "    }\n",
       "\n",
       "    .dataframe thead th {\n",
       "        text-align: right;\n",
       "    }\n",
       "</style>\n",
       "<table border=\"1\" class=\"dataframe\">\n",
       "  <thead>\n",
       "    <tr style=\"text-align: right;\">\n",
       "      <th></th>\n",
       "      <th>국어</th>\n",
       "      <th>영어</th>\n",
       "      <th>수학</th>\n",
       "      <th>과학</th>\n",
       "      <th>사회</th>\n",
       "      <th>역사</th>\n",
       "      <th>gmm_cluster</th>\n",
       "    </tr>\n",
       "  </thead>\n",
       "  <tbody>\n",
       "    <tr>\n",
       "      <th>3</th>\n",
       "      <td>68.0</td>\n",
       "      <td>86.0</td>\n",
       "      <td>57.0</td>\n",
       "      <td>15.0</td>\n",
       "      <td>53.0</td>\n",
       "      <td>45.0</td>\n",
       "      <td>0</td>\n",
       "    </tr>\n",
       "    <tr>\n",
       "      <th>10</th>\n",
       "      <td>79.0</td>\n",
       "      <td>93.0</td>\n",
       "      <td>46.0</td>\n",
       "      <td>30.0</td>\n",
       "      <td>45.0</td>\n",
       "      <td>15.0</td>\n",
       "      <td>0</td>\n",
       "    </tr>\n",
       "    <tr>\n",
       "      <th>13</th>\n",
       "      <td>93.0</td>\n",
       "      <td>100.0</td>\n",
       "      <td>48.0</td>\n",
       "      <td>56.0</td>\n",
       "      <td>63.0</td>\n",
       "      <td>100.0</td>\n",
       "      <td>0</td>\n",
       "    </tr>\n",
       "    <tr>\n",
       "      <th>23</th>\n",
       "      <td>100.0</td>\n",
       "      <td>100.0</td>\n",
       "      <td>88.0</td>\n",
       "      <td>61.0</td>\n",
       "      <td>90.0</td>\n",
       "      <td>33.0</td>\n",
       "      <td>1</td>\n",
       "    </tr>\n",
       "    <tr>\n",
       "      <th>32</th>\n",
       "      <td>93.0</td>\n",
       "      <td>100.0</td>\n",
       "      <td>65.0</td>\n",
       "      <td>53.0</td>\n",
       "      <td>45.0</td>\n",
       "      <td>90.0</td>\n",
       "      <td>0</td>\n",
       "    </tr>\n",
       "    <tr>\n",
       "      <th>...</th>\n",
       "      <td>...</td>\n",
       "      <td>...</td>\n",
       "      <td>...</td>\n",
       "      <td>...</td>\n",
       "      <td>...</td>\n",
       "      <td>...</td>\n",
       "      <td>...</td>\n",
       "    </tr>\n",
       "    <tr>\n",
       "      <th>1888</th>\n",
       "      <td>86.0</td>\n",
       "      <td>68.0</td>\n",
       "      <td>94.0</td>\n",
       "      <td>90.0</td>\n",
       "      <td>100.0</td>\n",
       "      <td>79.0</td>\n",
       "      <td>1</td>\n",
       "    </tr>\n",
       "    <tr>\n",
       "      <th>2014</th>\n",
       "      <td>65.0</td>\n",
       "      <td>58.0</td>\n",
       "      <td>63.0</td>\n",
       "      <td>0.0</td>\n",
       "      <td>0.0</td>\n",
       "      <td>0.0</td>\n",
       "      <td>2</td>\n",
       "    </tr>\n",
       "    <tr>\n",
       "      <th>2349</th>\n",
       "      <td>54.0</td>\n",
       "      <td>79.0</td>\n",
       "      <td>51.0</td>\n",
       "      <td>90.0</td>\n",
       "      <td>90.0</td>\n",
       "      <td>71.0</td>\n",
       "      <td>0</td>\n",
       "    </tr>\n",
       "    <tr>\n",
       "      <th>3165</th>\n",
       "      <td>47.0</td>\n",
       "      <td>93.0</td>\n",
       "      <td>55.0</td>\n",
       "      <td>30.0</td>\n",
       "      <td>100.0</td>\n",
       "      <td>71.0</td>\n",
       "      <td>0</td>\n",
       "    </tr>\n",
       "    <tr>\n",
       "      <th>3472</th>\n",
       "      <td>86.0</td>\n",
       "      <td>72.0</td>\n",
       "      <td>66.0</td>\n",
       "      <td>90.0</td>\n",
       "      <td>61.0</td>\n",
       "      <td>56.0</td>\n",
       "      <td>0</td>\n",
       "    </tr>\n",
       "  </tbody>\n",
       "</table>\n",
       "<p>351 rows × 7 columns</p>\n",
       "</div>"
      ],
      "text/plain": [
       "         국어     영어    수학    과학     사회     역사  gmm_cluster\n",
       "3      68.0   86.0  57.0  15.0   53.0   45.0            0\n",
       "10     79.0   93.0  46.0  30.0   45.0   15.0            0\n",
       "13     93.0  100.0  48.0  56.0   63.0  100.0            0\n",
       "23    100.0  100.0  88.0  61.0   90.0   33.0            1\n",
       "32     93.0  100.0  65.0  53.0   45.0   90.0            0\n",
       "...     ...    ...   ...   ...    ...    ...          ...\n",
       "1888   86.0   68.0  94.0  90.0  100.0   79.0            1\n",
       "2014   65.0   58.0  63.0   0.0    0.0    0.0            2\n",
       "2349   54.0   79.0  51.0  90.0   90.0   71.0            0\n",
       "3165   47.0   93.0  55.0  30.0  100.0   71.0            0\n",
       "3472   86.0   72.0  66.0  90.0   61.0   56.0            0\n",
       "\n",
       "[351 rows x 7 columns]"
      ]
     },
     "execution_count": 15,
     "metadata": {},
     "output_type": "execute_result"
    }
   ],
   "source": [
    "df"
   ]
  },
  {
   "cell_type": "code",
   "execution_count": 16,
   "id": "3bf56ca1",
   "metadata": {},
   "outputs": [],
   "source": [
    "def ploting_score(df):\n",
    "    f, ax = plt.subplots(2,3)\n",
    "    f.set_size_inches((25,10))\n",
    "\n",
    "    plt.subplots_adjust(wspace = 0.3, hspace = 0.3)\n",
    "\n",
    "    ############ 1 ###############\n",
    "\n",
    "    sns.histplot(df[df['gmm_cluster'] == 0]['국어'].tolist(),\n",
    "                color=\"tomato\", ax = ax[0,0])\n",
    "    sns.histplot(df[df['gmm_cluster'] == 1]['국어'].tolist(),\n",
    "                color=\"mediumorchid\", ax = ax[0,0])\n",
    "    sns.histplot(df[df['gmm_cluster'] == 2]['국어'].tolist(),\n",
    "                color=\"gold\", ax = ax[0,0])\n",
    "    ax[0,0].set_title('Korean')\n",
    "    ax[0,0].set_xlim([-10,110])\n",
    "\n",
    "    ############ 2 ###############\n",
    "\n",
    "    sns.histplot(df[df['gmm_cluster'] == 0]['수학'].tolist(),\n",
    "                color=\"tomato\", ax = ax[0,1])\n",
    "    sns.histplot(df[df['gmm_cluster'] == 1]['수학'].tolist(),\n",
    "                color=\"mediumorchid\", ax = ax[0,1])\n",
    "    sns.histplot(df[df['gmm_cluster'] == 2]['수학'].tolist(),\n",
    "                color=\"gold\", ax = ax[0,1])\n",
    "    ax[0,1].set_title('Math')\n",
    "    ax[0,1].set_xlim([-10,110])\n",
    "\n",
    "\n",
    "    ############ 3 ###############\n",
    "    sns.histplot(df[df['gmm_cluster'] == 0]['영어'].tolist(),\n",
    "                color=\"tomato\",ax = ax[0,2])\n",
    "    sns.histplot(df[df['gmm_cluster'] == 1]['영어'].tolist(),\n",
    "                color=\"mediumorchid\", ax = ax[0,2])\n",
    "    sns.histplot(df[df['gmm_cluster'] == 2]['영어'].tolist(),\n",
    "                color=\"gold\", ax = ax[0,2])\n",
    "    ax[0,2].set_title('English')\n",
    "    ax[0,2].set_xlim([-10,110])\n",
    "\n",
    "    ############ 4 ###############\n",
    "    sns.histplot(df[df['gmm_cluster'] == 0]['사회'].tolist(),\n",
    "                color=\"tomato\", ax = ax[1,0])\n",
    "    sns.histplot(df[df['gmm_cluster'] == 1]['사회'].tolist(),\n",
    "                color=\"mediumorchid\", ax = ax[1,0])\n",
    "    sns.histplot(df[df['gmm_cluster'] == 2]['사회'].tolist(),\n",
    "                color=\"gold\", ax = ax[1,0])\n",
    "    ax[1,0].set_title('Social')\n",
    "    ax[1,0].set_xlim([-10,110])\n",
    "\n",
    "    ############ 5 ###############\n",
    "    sns.histplot(df[df['gmm_cluster'] == 0]['과학'].tolist(),\n",
    "                color=\"tomato\", ax = ax[1,1])\n",
    "    sns.histplot(df[df['gmm_cluster'] == 1]['과학'].tolist(),\n",
    "                color=\"mediumorchid\", ax = ax[1,1])\n",
    "    sns.histplot(df[df['gmm_cluster'] == 2]['과학'].tolist(),\n",
    "                color=\"gold\", ax = ax[1,1])\n",
    "    ax[1,1].set_title('Science')\n",
    "    ax[1,1].set_xlim([-10,110])\n",
    "\n",
    "    ############ 6 ###############\n",
    "    sns.histplot(df[df['gmm_cluster'] == 0]['역사'].tolist(),\n",
    "                color=\"tomato\", ax = ax[1,2])\n",
    "    sns.histplot(df[df['gmm_cluster'] == 1]['역사'].tolist(),\n",
    "                color=\"mediumorchid\", ax = ax[1,2])\n",
    "    sns.histplot(df[df['gmm_cluster'] == 2]['역사'].tolist(),\n",
    "                color=\"gold\", ax = ax[1,2])\n",
    "    ax[1,2].set_title('History')\n",
    "    ax[1,2].set_xlim([-10,110])\n",
    "\n",
    "    plt.xlim(0,100)\n",
    "    plt.show()"
   ]
  },
  {
   "cell_type": "code",
   "execution_count": 17,
   "id": "af16b5a0",
   "metadata": {},
   "outputs": [
    {
     "data": {
      "image/png": "[encoded data removed]",
      "text/plain": [
       "<Figure size 2500x1000 with 6 Axes>"
      ]
     },
     "metadata": {},
     "output_type": "display_data"
    }
   ],
   "source": [
    "ploting_score(input_data)"
   ]
  },
  {
   "attachments": {},
   "cell_type": "markdown",
   "id": "a7b7e28b",
   "metadata": {},
   "source": [
    "### 1-2. PCA 진행하고, GMM 적용해보기(결과만 시각화)"
   ]
  },
  {
   "cell_type": "code",
   "execution_count": 18,
   "id": "f57dadff",
   "metadata": {},
   "outputs": [],
   "source": [
    "middle1_score_df = pd.read_csv('./datasets/중1_밀크T중학_AI진단평가_개인별전과목점수.csv',index_col=0)\n",
    "df = middle1_score_df[['국어','영어','수학','과학','사회','역사']].dropna()"
   ]
  },
  {
   "cell_type": "code",
   "execution_count": 19,
   "id": "9b0c3c5c",
   "metadata": {},
   "outputs": [
    {
     "name": "stdout",
     "output_type": "stream",
     "text": [
      "(351, 2)\n"
     ]
    }
   ],
   "source": [
    "from sklearn.decomposition import PCA\n",
    "\n",
    "pca = PCA(n_components=2)\n",
    "\n",
    "#fit( )과 transform( ) 을 호출하여 PCA 변환 데이터 반환\n",
    "pca.fit(input_data)\n",
    "df_pca = pca.transform(input_data)\n",
    "print(df_pca.shape)"
   ]
  },
  {
   "cell_type": "code",
   "execution_count": 20,
   "id": "a8bf5a61",
   "metadata": {},
   "outputs": [],
   "source": [
    "df_pca = pd.DataFrame(df_pca)"
   ]
  },
  {
   "cell_type": "code",
   "execution_count": 21,
   "id": "82badda9",
   "metadata": {},
   "outputs": [
    {
     "data": {
      "text/html": [
       "<div>\n",
       "<style scoped>\n",
       "    .dataframe tbody tr th:only-of-type {\n",
       "        vertical-align: middle;\n",
       "    }\n",
       "\n",
       "    .dataframe tbody tr th {\n",
       "        vertical-align: top;\n",
       "    }\n",
       "\n",
       "    .dataframe thead th {\n",
       "        text-align: right;\n",
       "    }\n",
       "</style>\n",
       "<table border=\"1\" class=\"dataframe\">\n",
       "  <thead>\n",
       "    <tr style=\"text-align: right;\">\n",
       "      <th></th>\n",
       "      <th>0</th>\n",
       "      <th>1</th>\n",
       "    </tr>\n",
       "  </thead>\n",
       "  <tbody>\n",
       "    <tr>\n",
       "      <th>0</th>\n",
       "      <td>37.770495</td>\n",
       "      <td>17.454206</td>\n",
       "    </tr>\n",
       "    <tr>\n",
       "      <th>1</th>\n",
       "      <td>51.751081</td>\n",
       "      <td>0.929811</td>\n",
       "    </tr>\n",
       "    <tr>\n",
       "      <th>2</th>\n",
       "      <td>-21.041320</td>\n",
       "      <td>48.268084</td>\n",
       "    </tr>\n",
       "    <tr>\n",
       "      <th>3</th>\n",
       "      <td>-16.260782</td>\n",
       "      <td>-23.577664</td>\n",
       "    </tr>\n",
       "    <tr>\n",
       "      <th>4</th>\n",
       "      <td>-12.511490</td>\n",
       "      <td>50.824162</td>\n",
       "    </tr>\n",
       "    <tr>\n",
       "      <th>...</th>\n",
       "      <td>...</td>\n",
       "      <td>...</td>\n",
       "    </tr>\n",
       "    <tr>\n",
       "      <th>346</th>\n",
       "      <td>-52.733282</td>\n",
       "      <td>-5.047060</td>\n",
       "    </tr>\n",
       "    <tr>\n",
       "      <th>347</th>\n",
       "      <td>99.211709</td>\n",
       "      <td>18.381998</td>\n",
       "    </tr>\n",
       "    <tr>\n",
       "      <th>348</th>\n",
       "      <td>-23.247149</td>\n",
       "      <td>-0.325728</td>\n",
       "    </tr>\n",
       "    <tr>\n",
       "      <th>349</th>\n",
       "      <td>-2.800531</td>\n",
       "      <td>2.950930</td>\n",
       "    </tr>\n",
       "    <tr>\n",
       "      <th>350</th>\n",
       "      <td>-11.514518</td>\n",
       "      <td>7.221997</td>\n",
       "    </tr>\n",
       "  </tbody>\n",
       "</table>\n",
       "<p>351 rows × 2 columns</p>\n",
       "</div>"
      ],
      "text/plain": [
       "             0          1\n",
       "0    37.770495  17.454206\n",
       "1    51.751081   0.929811\n",
       "2   -21.041320  48.268084\n",
       "3   -16.260782 -23.577664\n",
       "4   -12.511490  50.824162\n",
       "..         ...        ...\n",
       "346 -52.733282  -5.047060\n",
       "347  99.211709  18.381998\n",
       "348 -23.247149  -0.325728\n",
       "349  -2.800531   2.950930\n",
       "350 -11.514518   7.221997\n",
       "\n",
       "[351 rows x 2 columns]"
      ]
     },
     "execution_count": 21,
     "metadata": {},
     "output_type": "execute_result"
    }
   ],
   "source": [
    "df_pca"
   ]
  },
  {
   "cell_type": "code",
   "execution_count": 22,
   "id": "212068ea",
   "metadata": {},
   "outputs": [],
   "source": [
    "gmm = GaussianMixture(n_components=3, random_state= 1)\n",
    "gmm.fit(df_pca)\n",
    "\n",
    "predict_label = gmm.predict(df_pca)\n",
    "\n",
    "df_pca['gmm_cluster'] = predict_label"
   ]
  },
  {
   "cell_type": "code",
   "execution_count": 23,
   "id": "4944d303",
   "metadata": {},
   "outputs": [
    {
     "data": {
      "text/html": [
       "<div>\n",
       "<style scoped>\n",
       "    .dataframe tbody tr th:only-of-type {\n",
       "        vertical-align: middle;\n",
       "    }\n",
       "\n",
       "    .dataframe tbody tr th {\n",
       "        vertical-align: top;\n",
       "    }\n",
       "\n",
       "    .dataframe thead th {\n",
       "        text-align: right;\n",
       "    }\n",
       "</style>\n",
       "<table border=\"1\" class=\"dataframe\">\n",
       "  <thead>\n",
       "    <tr style=\"text-align: right;\">\n",
       "      <th></th>\n",
       "      <th>0</th>\n",
       "      <th>1</th>\n",
       "      <th>gmm_cluster</th>\n",
       "    </tr>\n",
       "  </thead>\n",
       "  <tbody>\n",
       "    <tr>\n",
       "      <th>0</th>\n",
       "      <td>37.770495</td>\n",
       "      <td>17.454206</td>\n",
       "      <td>0</td>\n",
       "    </tr>\n",
       "    <tr>\n",
       "      <th>1</th>\n",
       "      <td>51.751081</td>\n",
       "      <td>0.929811</td>\n",
       "      <td>0</td>\n",
       "    </tr>\n",
       "    <tr>\n",
       "      <th>2</th>\n",
       "      <td>-21.041320</td>\n",
       "      <td>48.268084</td>\n",
       "      <td>0</td>\n",
       "    </tr>\n",
       "    <tr>\n",
       "      <th>3</th>\n",
       "      <td>-16.260782</td>\n",
       "      <td>-23.577664</td>\n",
       "      <td>0</td>\n",
       "    </tr>\n",
       "    <tr>\n",
       "      <th>4</th>\n",
       "      <td>-12.511490</td>\n",
       "      <td>50.824162</td>\n",
       "      <td>0</td>\n",
       "    </tr>\n",
       "    <tr>\n",
       "      <th>...</th>\n",
       "      <td>...</td>\n",
       "      <td>...</td>\n",
       "      <td>...</td>\n",
       "    </tr>\n",
       "    <tr>\n",
       "      <th>346</th>\n",
       "      <td>-52.733282</td>\n",
       "      <td>-5.047060</td>\n",
       "      <td>1</td>\n",
       "    </tr>\n",
       "    <tr>\n",
       "      <th>347</th>\n",
       "      <td>99.211709</td>\n",
       "      <td>18.381998</td>\n",
       "      <td>2</td>\n",
       "    </tr>\n",
       "    <tr>\n",
       "      <th>348</th>\n",
       "      <td>-23.247149</td>\n",
       "      <td>-0.325728</td>\n",
       "      <td>1</td>\n",
       "    </tr>\n",
       "    <tr>\n",
       "      <th>349</th>\n",
       "      <td>-2.800531</td>\n",
       "      <td>2.950930</td>\n",
       "      <td>0</td>\n",
       "    </tr>\n",
       "    <tr>\n",
       "      <th>350</th>\n",
       "      <td>-11.514518</td>\n",
       "      <td>7.221997</td>\n",
       "      <td>0</td>\n",
       "    </tr>\n",
       "  </tbody>\n",
       "</table>\n",
       "<p>351 rows × 3 columns</p>\n",
       "</div>"
      ],
      "text/plain": [
       "             0          1  gmm_cluster\n",
       "0    37.770495  17.454206            0\n",
       "1    51.751081   0.929811            0\n",
       "2   -21.041320  48.268084            0\n",
       "3   -16.260782 -23.577664            0\n",
       "4   -12.511490  50.824162            0\n",
       "..         ...        ...          ...\n",
       "346 -52.733282  -5.047060            1\n",
       "347  99.211709  18.381998            2\n",
       "348 -23.247149  -0.325728            1\n",
       "349  -2.800531   2.950930            0\n",
       "350 -11.514518   7.221997            0\n",
       "\n",
       "[351 rows x 3 columns]"
      ]
     },
     "execution_count": 23,
     "metadata": {},
     "output_type": "execute_result"
    }
   ],
   "source": [
    "df_pca"
   ]
  },
  {
   "cell_type": "code",
   "execution_count": 24,
   "id": "b1379aa6",
   "metadata": {},
   "outputs": [
    {
     "data": {
      "text/html": [
       "<div>\n",
       "<style scoped>\n",
       "    .dataframe tbody tr th:only-of-type {\n",
       "        vertical-align: middle;\n",
       "    }\n",
       "\n",
       "    .dataframe tbody tr th {\n",
       "        vertical-align: top;\n",
       "    }\n",
       "\n",
       "    .dataframe thead th {\n",
       "        text-align: right;\n",
       "    }\n",
       "</style>\n",
       "<table border=\"1\" class=\"dataframe\">\n",
       "  <thead>\n",
       "    <tr style=\"text-align: right;\">\n",
       "      <th></th>\n",
       "      <th>국어</th>\n",
       "      <th>영어</th>\n",
       "      <th>수학</th>\n",
       "      <th>과학</th>\n",
       "      <th>사회</th>\n",
       "      <th>역사</th>\n",
       "      <th>0</th>\n",
       "      <th>1</th>\n",
       "      <th>gmm_cluster</th>\n",
       "    </tr>\n",
       "  </thead>\n",
       "  <tbody>\n",
       "    <tr>\n",
       "      <th>0</th>\n",
       "      <td>68.0</td>\n",
       "      <td>86.0</td>\n",
       "      <td>57.0</td>\n",
       "      <td>15.0</td>\n",
       "      <td>53.0</td>\n",
       "      <td>45.0</td>\n",
       "      <td>37.770495</td>\n",
       "      <td>17.454206</td>\n",
       "      <td>0</td>\n",
       "    </tr>\n",
       "    <tr>\n",
       "      <th>1</th>\n",
       "      <td>79.0</td>\n",
       "      <td>93.0</td>\n",
       "      <td>46.0</td>\n",
       "      <td>30.0</td>\n",
       "      <td>45.0</td>\n",
       "      <td>15.0</td>\n",
       "      <td>51.751081</td>\n",
       "      <td>0.929811</td>\n",
       "      <td>0</td>\n",
       "    </tr>\n",
       "    <tr>\n",
       "      <th>2</th>\n",
       "      <td>93.0</td>\n",
       "      <td>100.0</td>\n",
       "      <td>48.0</td>\n",
       "      <td>56.0</td>\n",
       "      <td>63.0</td>\n",
       "      <td>100.0</td>\n",
       "      <td>-21.041320</td>\n",
       "      <td>48.268084</td>\n",
       "      <td>0</td>\n",
       "    </tr>\n",
       "    <tr>\n",
       "      <th>3</th>\n",
       "      <td>100.0</td>\n",
       "      <td>100.0</td>\n",
       "      <td>88.0</td>\n",
       "      <td>61.0</td>\n",
       "      <td>90.0</td>\n",
       "      <td>33.0</td>\n",
       "      <td>-16.260782</td>\n",
       "      <td>-23.577664</td>\n",
       "      <td>0</td>\n",
       "    </tr>\n",
       "    <tr>\n",
       "      <th>4</th>\n",
       "      <td>93.0</td>\n",
       "      <td>100.0</td>\n",
       "      <td>65.0</td>\n",
       "      <td>53.0</td>\n",
       "      <td>45.0</td>\n",
       "      <td>90.0</td>\n",
       "      <td>-12.511490</td>\n",
       "      <td>50.824162</td>\n",
       "      <td>0</td>\n",
       "    </tr>\n",
       "    <tr>\n",
       "      <th>...</th>\n",
       "      <td>...</td>\n",
       "      <td>...</td>\n",
       "      <td>...</td>\n",
       "      <td>...</td>\n",
       "      <td>...</td>\n",
       "      <td>...</td>\n",
       "      <td>...</td>\n",
       "      <td>...</td>\n",
       "      <td>...</td>\n",
       "    </tr>\n",
       "    <tr>\n",
       "      <th>346</th>\n",
       "      <td>86.0</td>\n",
       "      <td>68.0</td>\n",
       "      <td>94.0</td>\n",
       "      <td>90.0</td>\n",
       "      <td>100.0</td>\n",
       "      <td>79.0</td>\n",
       "      <td>-52.733282</td>\n",
       "      <td>-5.047060</td>\n",
       "      <td>1</td>\n",
       "    </tr>\n",
       "    <tr>\n",
       "      <th>347</th>\n",
       "      <td>65.0</td>\n",
       "      <td>58.0</td>\n",
       "      <td>63.0</td>\n",
       "      <td>0.0</td>\n",
       "      <td>0.0</td>\n",
       "      <td>0.0</td>\n",
       "      <td>99.211709</td>\n",
       "      <td>18.381998</td>\n",
       "      <td>2</td>\n",
       "    </tr>\n",
       "    <tr>\n",
       "      <th>348</th>\n",
       "      <td>54.0</td>\n",
       "      <td>79.0</td>\n",
       "      <td>51.0</td>\n",
       "      <td>90.0</td>\n",
       "      <td>90.0</td>\n",
       "      <td>71.0</td>\n",
       "      <td>-23.247149</td>\n",
       "      <td>-0.325728</td>\n",
       "      <td>1</td>\n",
       "    </tr>\n",
       "    <tr>\n",
       "      <th>349</th>\n",
       "      <td>47.0</td>\n",
       "      <td>93.0</td>\n",
       "      <td>55.0</td>\n",
       "      <td>30.0</td>\n",
       "      <td>100.0</td>\n",
       "      <td>71.0</td>\n",
       "      <td>-2.800531</td>\n",
       "      <td>2.950930</td>\n",
       "      <td>0</td>\n",
       "    </tr>\n",
       "    <tr>\n",
       "      <th>350</th>\n",
       "      <td>86.0</td>\n",
       "      <td>72.0</td>\n",
       "      <td>66.0</td>\n",
       "      <td>90.0</td>\n",
       "      <td>61.0</td>\n",
       "      <td>56.0</td>\n",
       "      <td>-11.514518</td>\n",
       "      <td>7.221997</td>\n",
       "      <td>0</td>\n",
       "    </tr>\n",
       "  </tbody>\n",
       "</table>\n",
       "<p>351 rows × 9 columns</p>\n",
       "</div>"
      ],
      "text/plain": [
       "        국어     영어    수학    과학     사회     역사          0          1  gmm_cluster\n",
       "0     68.0   86.0  57.0  15.0   53.0   45.0  37.770495  17.454206            0\n",
       "1     79.0   93.0  46.0  30.0   45.0   15.0  51.751081   0.929811            0\n",
       "2     93.0  100.0  48.0  56.0   63.0  100.0 -21.041320  48.268084            0\n",
       "3    100.0  100.0  88.0  61.0   90.0   33.0 -16.260782 -23.577664            0\n",
       "4     93.0  100.0  65.0  53.0   45.0   90.0 -12.511490  50.824162            0\n",
       "..     ...    ...   ...   ...    ...    ...        ...        ...          ...\n",
       "346   86.0   68.0  94.0  90.0  100.0   79.0 -52.733282  -5.047060            1\n",
       "347   65.0   58.0  63.0   0.0    0.0    0.0  99.211709  18.381998            2\n",
       "348   54.0   79.0  51.0  90.0   90.0   71.0 -23.247149  -0.325728            1\n",
       "349   47.0   93.0  55.0  30.0  100.0   71.0  -2.800531   2.950930            0\n",
       "350   86.0   72.0  66.0  90.0   61.0   56.0 -11.514518   7.221997            0\n",
       "\n",
       "[351 rows x 9 columns]"
      ]
     },
     "execution_count": 24,
     "metadata": {},
     "output_type": "execute_result"
    }
   ],
   "source": [
    "df = pd.concat([df.reset_index(drop=True),df_pca], axis=1)\n",
    "df"
   ]
  },
  {
   "cell_type": "code",
   "execution_count": 25,
   "id": "ae8f2d92",
   "metadata": {},
   "outputs": [
    {
     "data": {
      "image/png": "[encoded data removed]",
      "text/plain": [
       "<Figure size 2500x1000 with 6 Axes>"
      ]
     },
     "metadata": {},
     "output_type": "display_data"
    }
   ],
   "source": [
    "ploting_score(df)"
   ]
  },
  {
   "cell_type": "markdown",
   "id": "EVsIGGY8sWlN",
   "metadata": {
    "id": "EVsIGGY8sWlN"
   },
   "source": [
    "#### 2. 국어와 수학과목의 성적이 유사한 사용자끼리 묶이도록 K-means 활용하여 5개의 군집 만들기"
   ]
  },
  {
   "cell_type": "code",
   "execution_count": 26,
   "id": "hRCcOMQ-W6bB",
   "metadata": {
    "id": "hRCcOMQ-W6bB"
   },
   "outputs": [],
   "source": [
    "## X : 국어 , Y : 수학"
   ]
  },
  {
   "cell_type": "code",
   "execution_count": 27,
   "id": "28c1d5d1",
   "metadata": {
    "scrolled": true
   },
   "outputs": [
    {
     "name": "stdout",
     "output_type": "stream",
     "text": [
      "               국어          수학     군집\n",
      "count  116.000000  116.000000  116.0\n",
      "mean    90.879310   67.353448    0.0\n",
      "std      8.970633    7.340483    0.0\n",
      "min     68.000000   54.000000    0.0\n",
      "25%     86.000000   60.750000    0.0\n",
      "50%     93.000000   68.000000    0.0\n",
      "75%    100.000000   74.500000    0.0\n",
      "max    100.000000   77.000000    0.0\n",
      "               국어          수학     군집\n",
      "count  113.000000  113.000000  113.0\n",
      "mean    91.681416   91.283186    1.0\n",
      "std      9.899734    6.183892    0.0\n",
      "min     61.000000   80.000000    1.0\n",
      "25%     86.000000   88.000000    1.0\n",
      "50%     93.000000   94.000000    1.0\n",
      "75%    100.000000   94.000000    1.0\n",
      "max    100.000000  100.000000    1.0\n",
      "               국어         수학    군집\n",
      "count   15.000000  15.000000  15.0\n",
      "mean    75.533333   1.533333   2.0\n",
      "std     20.580388   4.155318   0.0\n",
      "min     36.000000   0.000000   2.0\n",
      "25%     63.000000   0.000000   2.0\n",
      "50%     79.000000   0.000000   2.0\n",
      "75%     86.000000   0.000000   2.0\n",
      "max    100.000000  14.000000   2.0\n",
      "               국어         수학    군집\n",
      "count   55.000000  55.000000  55.0\n",
      "mean    87.363636  41.236364   3.0\n",
      "std      9.857059   8.465537   0.0\n",
      "min     68.000000  23.000000   3.0\n",
      "25%     79.000000  37.000000   3.0\n",
      "50%     93.000000  43.000000   3.0\n",
      "75%     93.000000  47.000000   3.0\n",
      "max    100.000000  52.000000   3.0\n",
      "              국어         수학    군집\n",
      "count  52.000000  52.000000  52.0\n",
      "mean   49.980769  52.519231   4.0\n",
      "std    13.664740  12.941028   0.0\n",
      "min    11.000000  23.000000   4.0\n",
      "25%    43.000000  46.000000   4.0\n",
      "50%    54.000000  51.000000   4.0\n",
      "75%    61.000000  58.500000   4.0\n",
      "max    68.000000  83.000000   4.0\n"
     ]
    },
    {
     "name": "stderr",
     "output_type": "stream",
     "text": [
      "C:\\Users\\user\\AppData\\Local\\Temp\\ipykernel_21812\\1442498299.py:11: SettingWithCopyWarning: \n",
      "A value is trying to be set on a copy of a slice from a DataFrame.\n",
      "Try using .loc[row_indexer,col_indexer] = value instead\n",
      "\n",
      "See the caveats in the documentation: https://pandas.pydata.org/pandas-docs/stable/user_guide/indexing.html#returning-a-view-versus-a-copy\n",
      "  km['군집'] = km_pred\n"
     ]
    }
   ],
   "source": [
    "from sklearn.cluster import KMeans\n",
    "\n",
    "# 데이터 프레임에서 2개의 컬럼 데이터를 가져옴\n",
    "km = input_data[['국어', '수학']]\n",
    "\n",
    "# K-Means 모델 생성 및 데이터 클러스터링\n",
    "kmeans = KMeans(n_clusters=5, random_state=42)\n",
    "km_pred = kmeans.fit_predict(km)\n",
    "\n",
    "# 클러스터링 결과를 데이터 프레임에 추가\n",
    "km['군집'] = km_pred\n",
    "\n",
    "# 클러스터링 결과 분석 또는 시각화 등 수행\n",
    "# 예시) 각 클러스터의 통계 정보 출력\n",
    "for cluster_num in range(5):\n",
    "    cluster_data = km[km['군집'] == cluster_num]\n",
    "    print(cluster_data.describe())"
   ]
  },
  {
   "cell_type": "code",
   "execution_count": 28,
   "id": "b2848a01",
   "metadata": {},
   "outputs": [
    {
     "data": {
      "text/plain": [
       "3       4\n",
       "10      3\n",
       "13      3\n",
       "23      1\n",
       "32      0\n",
       "       ..\n",
       "1888    1\n",
       "2014    4\n",
       "2349    4\n",
       "3165    4\n",
       "3472    0\n",
       "Name: 군집, Length: 351, dtype: int32"
      ]
     },
     "execution_count": 28,
     "metadata": {},
     "output_type": "execute_result"
    }
   ],
   "source": [
    "km['군집']"
   ]
  },
  {
   "cell_type": "code",
   "execution_count": 29,
   "id": "5cef04f6",
   "metadata": {},
   "outputs": [
    {
     "data": {
      "text/plain": [
       "array([0, 1, 2, 3, 4])"
      ]
     },
     "execution_count": 29,
     "metadata": {},
     "output_type": "execute_result"
    }
   ],
   "source": [
    "np.unique(km_pred)"
   ]
  },
  {
   "cell_type": "code",
   "execution_count": 30,
   "id": "e46d8af7",
   "metadata": {},
   "outputs": [],
   "source": [
    "# kmeans.cluster_centers_"
   ]
  },
  {
   "cell_type": "code",
   "execution_count": 31,
   "id": "a10c464c",
   "metadata": {},
   "outputs": [],
   "source": [
    "km.reset_index(drop=True, inplace=True) # 인덱스 리셋 "
   ]
  },
  {
   "cell_type": "code",
   "execution_count": 32,
   "id": "8669abe9",
   "metadata": {
    "scrolled": true
   },
   "outputs": [
    {
     "data": {
      "text/plain": [
       "0    116\n",
       "1    113\n",
       "3     55\n",
       "4     52\n",
       "2     15\n",
       "Name: 군집, dtype: int64"
      ]
     },
     "execution_count": 32,
     "metadata": {},
     "output_type": "execute_result"
    }
   ],
   "source": [
    "km['군집'].value_counts()"
   ]
  },
  {
   "cell_type": "code",
   "execution_count": 33,
   "id": "2563cded",
   "metadata": {},
   "outputs": [
    {
     "data": {
      "image/png": "[encoded data removed]",
      "text/plain": [
       "<Figure size 800x600 with 1 Axes>"
      ]
     },
     "metadata": {},
     "output_type": "display_data"
    }
   ],
   "source": [
    "import matplotlib.pyplot as plt\n",
    "import seaborn as sns\n",
    "\n",
    "# 클러스터링 결과를 시각화하기 위해 데이터를 준비\n",
    "x_values = km['수학']\n",
    "y_values = km['국어']\n",
    "cluster_labels = km['군집']\n",
    "\n",
    "# 그래프 크기 설정\n",
    "plt.figure(figsize=(8, 6))\n",
    "\n",
    "# 클러스터 별로 다른 색깔로 데이터 포인트 표시\n",
    "sns.scatterplot(x=x_values, y=y_values, hue=cluster_labels, palette=\"Set1\", s=100)\n",
    "\n",
    "# 그래프 제목과 축 레이블 설정\n",
    "plt.title('K-means')\n",
    "plt.xlabel('Math')\n",
    "plt.ylabel('Korean')\n",
    "\n",
    "# 범례 표시\n",
    "plt.legend(title='Cluster')\n",
    "\n",
    "# 그래프 표시\n",
    "plt.show()\n"
   ]
  },
  {
   "cell_type": "code",
   "execution_count": null,
   "id": "1817283f",
   "metadata": {},
   "outputs": [],
   "source": []
  },
  {
   "cell_type": "code",
   "execution_count": 34,
   "id": "5430bc17",
   "metadata": {},
   "outputs": [],
   "source": [
    "middle1_score_df = pd.read_csv('./datasets/중1_밀크T중학_AI진단평가_개인별전과목점수.csv',index_col=0)\n",
    "X = middle1_score_df.drop(columns =['영어','과학','사회','역사'])"
   ]
  },
  {
   "cell_type": "code",
   "execution_count": 35,
   "id": "a40fe335",
   "metadata": {},
   "outputs": [],
   "source": [
    "X = X[['국어','수학']].dropna()"
   ]
  },
  {
   "cell_type": "code",
   "execution_count": 36,
   "id": "1e323619",
   "metadata": {},
   "outputs": [],
   "source": [
    "X = X.to_numpy()"
   ]
  },
  {
   "cell_type": "code",
   "execution_count": 38,
   "id": "3f87bc4b",
   "metadata": {},
   "outputs": [],
   "source": [
    "kmeans = KMeans(n_clusters = 5, random_state = 1)\n",
    "\n",
    "y_pred = kmeans.fit_predict(X)"
   ]
  },
  {
   "cell_type": "code",
   "execution_count": 39,
   "id": "862c3a3f",
   "metadata": {},
   "outputs": [
    {
     "data": {
      "text/plain": [
       "array([[28.38127854, 22.95890411],\n",
       "       [56.53936652, 62.2361991 ],\n",
       "       [72.20805369,  6.53467562],\n",
       "       [87.75730623, 85.6480305 ],\n",
       "       [88.12116788, 52.78394161]])"
      ]
     },
     "execution_count": 39,
     "metadata": {},
     "output_type": "execute_result"
    }
   ],
   "source": [
    "kmeans.cluster_centers_"
   ]
  },
  {
   "cell_type": "code",
   "execution_count": 40,
   "id": "3593c91e",
   "metadata": {},
   "outputs": [
    {
     "data": {
      "image/png": "[encoded data removed]",
      "text/plain": [
       "<Figure size 800x400 with 1 Axes>"
      ]
     },
     "metadata": {},
     "output_type": "display_data"
    }
   ],
   "source": [
    "def plot_data(X):\n",
    "    plt.plot(X[:, 0], X[:, 1], 'k.', markersize=2)\n",
    "\n",
    "def plot_centroids(centroids, weights=None, circle_color='w', cross_color='k'):\n",
    "    if weights is not None:\n",
    "        centroids = centroids[weights > weights.max() / 10]\n",
    "    plt.scatter(centroids[:, 0], centroids[:, 1],\n",
    "                marker='o', s=35, linewidths=8,\n",
    "                color=circle_color, zorder=10, alpha=0.9)\n",
    "    plt.scatter(centroids[:, 0], centroids[:, 1],\n",
    "                marker='x', s=2, linewidths=12,\n",
    "                color=cross_color, zorder=11, alpha=1)\n",
    "\n",
    "def plot_decision_boundaries(clusterer, X, resolution=1000, show_centroids=True,\n",
    "                             show_xlabels=True, show_ylabels=True):\n",
    "    # 바탕 그리기\n",
    "    mins = X.min(axis=0) - 0.1\n",
    "    maxs = X.max(axis=0) + 0.1\n",
    "    xx, yy = np.meshgrid(np.linspace(mins[0], maxs[0], resolution),\n",
    "                         np.linspace(mins[1], maxs[1], resolution))\n",
    "    Z = clusterer.predict(np.c_[xx.ravel(), yy.ravel()])\n",
    "    Z = Z.reshape(xx.shape)\n",
    "\n",
    "    plt.contourf(Z, extent=(mins[0], maxs[0], mins[1], maxs[1]),\n",
    "                cmap=\"Pastel2\")\n",
    "\n",
    "    # 결정 경계 그리기\n",
    "    plt.contour(Z, extent=(mins[0], maxs[0], mins[1], maxs[1]),\n",
    "                linewidths=1, colors='k')\n",
    "\n",
    "    # 훈련 데이터셋과 센트로이드 그리기\n",
    "    plot_data(X)\n",
    "    if show_centroids:\n",
    "        plot_centroids(clusterer.cluster_centers_)\n",
    "\n",
    "    if show_xlabels:\n",
    "        plt.xlabel(\"$x_1$\")\n",
    "    else:\n",
    "        plt.tick_params(labelbottom=False)\n",
    "    if show_ylabels:\n",
    "        plt.ylabel(\"$x_2$\", rotation=0)\n",
    "    else:\n",
    "        plt.tick_params(labelleft=False)\n",
    "\n",
    "plt.figure(figsize=(8, 4))\n",
    "plot_decision_boundaries(kmeans, X)\n",
    "\n",
    "plt.show()"
   ]
  },
  {
   "cell_type": "markdown",
   "id": "ff1a6c86",
   "metadata": {},
   "source": [
    "#### 느낀점\n"
   ]
  },
  {
   "cell_type": "markdown",
   "id": "d9cefc74",
   "metadata": {},
   "source": [
    "pca는 차원을 축소해서 고차원일때 데이터 포인트가 많아 시각화가 어려운 부분을 해결해줄수있다. \n",
    "\n",
    "k-mean은  클러스트 크기가 다를때 사용하지 못하기 때문에 항상 사용하는 것은 힘들 것 같다."
   ]
  }
 ],
 "metadata": {
  "colab": {
   "provenance": []
  },
  "kernelspec": {
   "display_name": "Python 3 (ipykernel)",
   "language": "python",
   "name": "python3"
  },
  "language_info": {
   "codemirror_mode": {
    "name": "ipython",
    "version": 3
   },
   "file_extension": ".py",
   "mimetype": "text/x-python",
   "name": "python",
   "nbconvert_exporter": "python",
   "pygments_lexer": "ipython3",
   "version": "3.9.13"
  }
 },
 "nbformat": 4,
 "nbformat_minor": 5
}
